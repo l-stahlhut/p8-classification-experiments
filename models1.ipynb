{
 "cells": [
  {
   "cell_type": "code",
   "execution_count": 281,
   "metadata": {
    "colab": {
     "base_uri": "https://localhost:8080/"
    },
    "id": "zODFZ3es_P9G",
    "outputId": "dce22fe8-a0bc-4ece-e550-30f3295e22bd"
   },
   "outputs": [
    {
     "output_type": "stream",
     "name": "stdout",
     "text": [
      "Drive already mounted at /content/drive; to attempt to forcibly remount, call drive.mount(\"/content/drive\", force_remount=True).\n"
     ]
    }
   ],
   "source": [
    "from google.colab import drive\n",
    "drive.mount('/content/drive')"
   ]
  },
  {
   "cell_type": "code",
   "execution_count": 282,
   "metadata": {
    "id": "TNkb6UZYAJAv"
   },
   "outputs": [],
   "source": [
    "import os\n",
    "import pandas as pd\n",
    "import numpy as np\n",
    "import matplotlib.pyplot as plt\n",
    "\n",
    "import tensorflow as tf"
   ]
  },
  {
   "cell_type": "markdown",
   "metadata": {
    "id": "Tk_ztemWGigx"
   },
   "source": [
    "# 0. Load data"
   ]
  },
  {
   "cell_type": "code",
   "execution_count": 283,
   "metadata": {
    "id": "xy_NzUxE_MPs"
   },
   "outputs": [],
   "source": [
    "# load data\n",
    "path = 'drive/My Drive/P8/data'\n",
    "train = pd.read_csv(os.path.join(path, \"train_I1.csv\"), encoding='utf8', dtype={'text_id': str, 'sentence': str, 'label': str})\n",
    "val = pd.read_csv(os.path.join(path, \"val_I1.csv\"), encoding='utf8', dtype={'text_id': str, 'sentence': str, 'label': str})\n",
    "test = pd.read_csv(os.path.join(path, \"test_I1.csv\"), encoding='utf8', dtype={'text_id': str, 'sentence': str, 'label': str})"
   ]
  },
  {
   "cell_type": "markdown",
   "metadata": {
    "id": "y259meG7IFiq"
   },
   "source": [
    "# 1. Basic data exploration"
   ]
  },
  {
   "cell_type": "code",
   "execution_count": 284,
   "metadata": {
    "colab": {
     "base_uri": "https://localhost:8080/",
     "height": 327
    },
    "id": "gs9xcslEIZr9",
    "outputId": "c3838ded-d2ed-463b-b4b1-7cf236c7da2a"
   },
   "outputs": [
    {
     "output_type": "stream",
     "name": "stdout",
     "text": [
      "AxesSubplot(0.125,0.125;0.775x0.755)\n"
     ]
    },
    {
     "output_type": "display_data",
     "data": {
      "text/plain": [
       "<Figure size 432x288 with 1 Axes>"
      ],
      "image/png": "[encoded data removed]"
     },
     "metadata": {
      "needs_background": "light"
     }
    }
   ],
   "source": [
    "# how many sentences tagged? Class 0 (=not tagged) is undersampled.\n",
    "fig, ax = plt.subplots()\n",
    "fig.suptitle('Training data', fontsize=14)\n",
    "plt.xlabel('class', fontsize=8)\n",
    "plt.ylabel('No. of tagged sentences', fontsize=8)\n",
    "print(train['label'].value_counts().plot(ax=ax, kind='bar'))\n",
    "#print(val['label'].value_counts().plot(ax=ax, kind='bar'))\n",
    "#print(test['label'].value_counts().plot(ax=ax, kind='bar'))"
   ]
  },
  {
   "cell_type": "markdown",
   "metadata": {
    "id": "hTJ_a5T6Jy1K"
   },
   "source": [
    "It is a problem that we have so many classes that we barely have data for...\n",
    "\n",
    "# 2. Classification\n",
    "\n",
    "\n",
    "## General classification idea\n",
    "\n",
    "New idea: Multiple subnets\n",
    "\n",
    "If we want to keep the classes even and maximize the dataset for each class, we can frame this task as a binary classification task for each class which then later can be combined for a final decision. \n",
    "E.g. sentence 1 will be loaded into 11 seperate networks that classify it into \n",
    "- cls 1 or other\n",
    "- cls 2 or other\n",
    "- cls 3 or other\n",
    "- ...\n",
    "- cls 11 or other. \n",
    "\n",
    "At the end, the scores can be compared and the sentence will be sorted into the class with the highest percentage score. This might be an advantageous approach if we consider that we can then also incorporate different kinds of preprocessing for each subnet.\n",
    "\n",
    "In this notebook, I will do some experiments to do the following binary classifications: \n",
    "- step 3g/not step 3g (Subnet A)\n",
    "- step 3b/not step 3b (Subnet B)\n",
    "\n"
   ]
  },
  {
   "cell_type": "markdown",
   "metadata": {
    "id": "MWvmJTacwz68"
   },
   "source": [
    "## Dataset preparation\n",
    "\n",
    "- Create subcorpora for binary classification for a specific step\n",
    "- Transform pd dataframe --> tf dataset\n",
    "- Embedding"
   ]
  },
  {
   "cell_type": "markdown",
   "source": [
    "### Some helpful functions"
   ],
   "metadata": {
    "id": "BVEWgy6R-1lC"
   }
  },
  {
   "cell_type": "code",
   "execution_count": 285,
   "metadata": {
    "id": "gS8wig4JwIxl"
   },
   "outputs": [],
   "source": [
    "def create_subcorpora(step, train_df, val_df, test_df):\n",
    "  \"\"\"Create train, test and val corpora for the specific subnet. \n",
    "  This function prepares 3 dataframes for binary classification: \n",
    "  new label 1 = the class we want to classify in this subnet. \n",
    "  new label 0 = random samples of all other classes, size equal to length of class 1.\"\"\"\n",
    "  # get sample length\n",
    "  n_train = len(train[train['label'] == step])\n",
    "  n_val = len(val[val['label'] == step])\n",
    "  n_test = len(test[test['label'] == step])\n",
    "  # create subset \n",
    "  # train: keep all instances of class 5 and 400 random other rows \n",
    "  subset_train = pd.concat([\n",
    "      train[train['label'] == step],  # keep all rows with label 5\n",
    "      train[train['label'] != step].sample(n=n_train, random_state=42)  # sample 500 rows with other labels\n",
    "  ]).dropna()\n",
    "  # val: keep all instances of class 5 and 50 random other rows \n",
    "  subset_val = pd.concat([\n",
    "      val[val['label'] == step],  # keep all rows with label 5\n",
    "      val[val['label'] != step].sample(n=n_val, random_state=42)  # sample 500 rows with other labels\n",
    "  ]).dropna()\n",
    "  # test: keep all instances of class 5 and 50 random other rows\n",
    "  subset_test = pd.concat([\n",
    "      test[test['label'] == step],  # keep all rows with label 5\n",
    "      test[test['label'] != step].sample(n=n_test, random_state=42)  # sample 500 rows with other labels\n",
    "  ]).dropna()\n",
    "\n",
    "  # create new label \n",
    "  subset_train['new_label'] = [int(1) if x == step else int(0) for x in subset_train[\"label\"]]\n",
    "  subset_val['new_label'] = [int(1) if x == step else int(0) for x in subset_val[\"label\"]]\n",
    "  subset_test['new_label'] = [int(1) if x == step else int(0) for x in subset_test[\"label\"]]\n",
    "\n",
    "  # drop unnecessary columns\n",
    "  subset_train = subset_train.drop([\"text_id\", \"label\"], axis = 1)\n",
    "  subset_val = subset_val.drop([\"text_id\", \"label\"], axis = 1)\n",
    "  subset_test = subset_test.drop([\"text_id\", \"label\"], axis = 1)\n",
    "\n",
    "  return subset_train, subset_val, subset_test\n"
   ]
  },
  {
   "cell_type": "code",
   "execution_count": 286,
   "metadata": {
    "id": "d_FMPa90zz4I"
   },
   "outputs": [],
   "source": [
    "# A utility method to create a tf.data dataset from a Pandas Dataframe\n",
    "def df_to_dataset(dataframe, shuffle=True, batch_size=32):\n",
    "  \"\"\"pd Dataframe -> tensorflow dataset for baseline model and lstm\"\"\"\n",
    "  dataframe = dataframe.copy()\n",
    "  labels = dataframe.pop('new_label')\n",
    "  dataframe = dataframe[\"sentence\"]\n",
    "  #dataframe = dataframe.apply(lambda x: str(x))\n",
    "  ds = tf.data.Dataset.from_tensor_slices((dataframe, labels))\n",
    "  if shuffle:\n",
    "    ds = ds.shuffle(buffer_size=len(dataframe))\n",
    "  ds = ds.batch(batch_size)\n",
    "  return ds"
   ]
  },
  {
   "cell_type": "code",
   "execution_count": 287,
   "metadata": {
    "id": "exAl6hO1CG7a"
   },
   "outputs": [],
   "source": [
    "# prepare function to check for overfitting\n",
    "# check for overfitting\n",
    "def plot_result(history):\n",
    "  plt.plot(history.history['accuracy'], label =\"Training accuracy\")\n",
    "  plt.plot(history.history['val_accuracy'], label =\"Validation accuracy\")\n",
    "  plt.title(\"Accuracy of baseline model on step 3g\")\n",
    "  plt.ylabel(\"Accuracy\")\n",
    "  plt.xlabel(\"Epoch\")\n",
    "  plt.legend()\n",
    "  plt.show()\n",
    "  return plt"
   ]
  },
  {
   "cell_type": "markdown",
   "source": [
    "### Dataset for step 3g"
   ],
   "metadata": {
    "id": "Km7-BAUL-5D3"
   }
  },
  {
   "cell_type": "code",
   "source": [
    "# get sub-frames\n",
    "train_3g, val_3g, test_3g = create_subcorpora(\"3g\", train, val, test)\n",
    "\n",
    "# create tensorflow datasets from pandas dataframes\n",
    "train_data_3g = df_to_dataset(train_3g)\n",
    "val_data_3g = df_to_dataset(val_3g)\n",
    "test_data_3g = df_to_dataset(test_3g)"
   ],
   "metadata": {
    "id": "9-YfRfUp-7Hy"
   },
   "execution_count": 288,
   "outputs": []
  },
  {
   "cell_type": "markdown",
   "source": [
    "### Dataset for step 3b"
   ],
   "metadata": {
    "id": "UcYP8xy6-7nX"
   }
  },
  {
   "cell_type": "code",
   "source": [
    "# get datasets\n",
    "train_3b, val_3b, test_3b = create_subcorpora(\"3b\", train, val, test)\n",
    "\n",
    "# create tensorflow datasets from pandas dataframes\n",
    "train_data_3b = df_to_dataset(train_3b)\n",
    "val_data_3b = df_to_dataset(val_3b)\n",
    "test_data_3b = df_to_dataset(test_3b)"
   ],
   "metadata": {
    "id": "TgkWtsbv--UE"
   },
   "execution_count": null,
   "outputs": []
  },
  {
   "cell_type": "markdown",
   "metadata": {
    "id": "w42JCvHX_gTJ"
   },
   "source": [
    "## Build models\n",
    "\n"
   ]
  },
  {
   "cell_type": "markdown",
   "source": [
    "### Baseline: Simple Sequential Model"
   ],
   "metadata": {
    "id": "NFtK1egtA6kS"
   }
  },
  {
   "cell_type": "code",
   "execution_count": null,
   "metadata": {
    "id": "7Kf5t3aN_kDA"
   },
   "outputs": [],
   "source": [
    "# embedding\n",
    "import tensorflow_hub as hub\n",
    "hub_layer = hub.KerasLayer(\"https://tfhub.dev/google/nnlm-de-dim50/2\",\n",
    "                           dtype=tf.string, trainable=True)\n",
    "\n",
    "# model\n",
    "model_bl = tf.keras.Sequential()\n",
    "model_bl.add(hub_layer) # embedding\n",
    "model_bl.add(tf.keras.layers.Dense(16, activation='relu'))\n",
    "model_bl.add(tf.keras.layers.Dropout(0.4))\n",
    "model_bl.add(tf.keras.layers.Dense(16, activation='relu'))\n",
    "model_bl.add(tf.keras.layers.Dropout(0.4))\n",
    "model_bl.add(tf.keras.layers.Dense(1, activation='sigmoid'))\n",
    "\n",
    "model_bl.compile(optimizer=tf.keras.optimizers.Adam(learning_rate=0.001), \n",
    "              loss=tf.keras.losses.BinaryCrossentropy(),\n",
    "              metrics=['accuracy'])"
   ]
  },
  {
   "cell_type": "markdown",
   "metadata": {
    "id": "si3z8sPc_oh4"
   },
   "source": [
    "### LSTM"
   ]
  },
  {
   "cell_type": "code",
   "execution_count": 323,
   "metadata": {
    "id": "F_kyceceTBky"
   },
   "outputs": [],
   "source": [
    "# encoder\n",
    "encoder = tf.keras.layers.TextVectorization(max_tokens=2000)\n",
    "encoder.adapt(train_data_3b.map(lambda text, label: text)) # todo adapt when training the other dataset\n",
    "\n",
    "# model\n",
    "model_lstm = tf.keras.Sequential([\n",
    "    encoder, \n",
    "    tf.keras.layers.Embedding(\n",
    "        input_dim=len(encoder.get_vocabulary()),\n",
    "        output_dim=32,\n",
    "        mask_zero=True\n",
    "    ), \n",
    "    tf.keras.layers.LSTM(32), \n",
    "    tf.keras.layers.Dense(32, activation='relu'), \n",
    "    tf.keras.layers.Dropout(0.4),\n",
    "    tf.keras.layers.Dense(1, activation='sigmoid')\n",
    "])\n",
    "\n",
    "model_lstm.compile(optimizer=tf.keras.optimizers.Adam(learning_rate=0.001), \n",
    "              loss=tf.keras.losses.BinaryCrossentropy(),\n",
    "              metrics=['accuracy'])"
   ]
  },
  {
   "cell_type": "markdown",
   "metadata": {
    "id": "t3WGCYuO_rPT"
   },
   "source": [
    "### CNN\n"
   ]
  },
  {
   "cell_type": "code",
   "source": [
    "embedding_dim = 100\n",
    "\n",
    "model_cnn = tf.keras.Sequential([\n",
    "    encoder,\n",
    "    tf.keras.layers.Embedding(\n",
    "        input_dim=len(encoder.get_vocabulary()),\n",
    "        output_dim=embedding_dim,\n",
    "        #output_dim=64,\n",
    "        # Use masking to handle the variable sequence lengths\n",
    "        mask_zero=True),\n",
    "    tf.keras.layers.Conv1D(128, 5, activation='relu'),\n",
    "    tf.keras.layers.GlobalMaxPooling1D(),\n",
    "    tf.keras.layers.Dense(10, activation='relu'),\n",
    "    tf.keras.layers.Dense(1, activation='sigmoid')\n",
    "])\n",
    "\n",
    "model_cnn.compile(optimizer='adam',\n",
    "              loss='binary_crossentropy',\n",
    "              metrics=['accuracy'])\n",
    "model_cnn.summary()"
   ],
   "metadata": {
    "colab": {
     "base_uri": "https://localhost:8080/"
    },
    "id": "eY8vUVECGjyU",
    "outputId": "cb00bde2-1fd5-4a43-de70-8d6318b0955e"
   },
   "execution_count": 319,
   "outputs": [
    {
     "output_type": "stream",
     "name": "stdout",
     "text": [
      "Model: \"sequential_29\"\n",
      "_________________________________________________________________\n",
      " Layer (type)                Output Shape              Param #   \n",
      "=================================================================\n",
      " text_vectorization_18 (Text  (None, None)             0         \n",
      " Vectorization)                                                  \n",
      "                                                                 \n",
      " embedding_19 (Embedding)    (None, None, 100)         100000    \n",
      "                                                                 \n",
      " conv1d_4 (Conv1D)           (None, None, 128)         64128     \n",
      "                                                                 \n",
      " global_max_pooling1d_4 (Glo  (None, 128)              0         \n",
      " balMaxPooling1D)                                                \n",
      "                                                                 \n",
      " dense_58 (Dense)            (None, 10)                1290      \n",
      "                                                                 \n",
      " dense_59 (Dense)            (None, 1)                 11        \n",
      "                                                                 \n",
      "=================================================================\n",
      "Total params: 165,429\n",
      "Trainable params: 165,429\n",
      "Non-trainable params: 0\n",
      "_________________________________________________________________\n"
     ]
    }
   ]
  },
  {
   "cell_type": "markdown",
   "metadata": {
    "id": "T4Ac7nNQvnp3"
   },
   "source": [
    "## Subnet A: Step 3g/not step 3g\n",
    "\n",
    "Binary classification Step 3g/not step 3g"
   ]
  },
  {
   "cell_type": "markdown",
   "metadata": {
    "id": "ztOdRBsy1G_g"
   },
   "source": [
    "\n",
    "\n",
    "### Baseline: Simple Sequential Model"
   ]
  },
  {
   "cell_type": "code",
   "execution_count": null,
   "metadata": {
    "colab": {
     "base_uri": "https://localhost:8080/"
    },
    "id": "g96v2cgb1qYV",
    "outputId": "f01f001c-d67c-4b6a-e95e-01ff75f7e54b"
   },
   "outputs": [
    {
     "output_type": "stream",
     "name": "stdout",
     "text": [
      "19/19 [==============================] - 0s 2ms/step - loss: 0.6957 - accuracy: 0.5171\n",
      "19/19 [==============================] - 0s 2ms/step - loss: 0.6957 - accuracy: 0.5171\n"
     ]
    },
    {
     "output_type": "execute_result",
     "data": {
      "text/plain": [
       "[0.695676326751709, 0.517123281955719]"
      ]
     },
     "metadata": {},
     "execution_count": 276
    }
   ],
   "source": [
    "# evaluate untrained model on training and validation data\n",
    "model_bl.evaluate(train_data_3g)\n",
    "model_bl.evaluate(train_data_3g)"
   ]
  },
  {
   "cell_type": "code",
   "execution_count": 277,
   "metadata": {
    "colab": {
     "base_uri": "https://localhost:8080/"
    },
    "id": "0AELP6VK1qWl",
    "outputId": "63fef0aa-cd40-40e6-d032-ac193aed07cd"
   },
   "outputs": [
    {
     "metadata": {
      "tags": null
     },
     "name": "stdout",
     "output_type": "stream",
     "text": [
      "Epoch 1/6\n",
      "19/19 [==============================] - 27s 1s/step - loss: 0.6932 - accuracy: 0.5342 - val_loss: 0.6874 - val_accuracy: 0.5753\n",
      "Epoch 2/6\n",
      "19/19 [==============================] - 42s 2s/step - loss: 0.6812 - accuracy: 0.5839 - val_loss: 0.6751 - val_accuracy: 0.6774\n",
      "Epoch 3/6\n",
      "19/19 [==============================] - 27s 1s/step - loss: 0.6651 - accuracy: 0.5993 - val_loss: 0.6566 - val_accuracy: 0.7527\n",
      "Epoch 4/6\n",
      "19/19 [==============================] - 31s 2s/step - loss: 0.6372 - accuracy: 0.6695 - val_loss: 0.6279 - val_accuracy: 0.8065\n",
      "Epoch 5/6\n",
      "19/19 [==============================] - 33s 2s/step - loss: 0.5919 - accuracy: 0.7226 - val_loss: 0.5741 - val_accuracy: 0.8333\n",
      "Epoch 6/6\n",
      "19/19 [==============================] - 32s 2s/step - loss: 0.5298 - accuracy: 0.8031 - val_loss: 0.5028 - val_accuracy: 0.8387\n"
     ]
    }
   ],
   "source": [
    "# train model\n",
    "history_bl_3g = model_bl.fit(train_data_3g, epochs = 6, validation_data=val_data_3g)"
   ]
  },
  {
   "cell_type": "code",
   "execution_count": 278,
   "metadata": {
    "id": "Ae1IMS2wCXwO",
    "colab": {
     "base_uri": "https://localhost:8080/",
     "height": 312
    },
    "outputId": "5f2630e7-439f-40a6-be21-e15428893c61"
   },
   "outputs": [
    {
     "output_type": "display_data",
     "data": {
      "text/plain": [
       "<Figure size 432x288 with 1 Axes>"
      ],
      "image/png": "[encoded data removed]"
     },
     "metadata": {
      "needs_background": "light"
     }
    },
    {
     "output_type": "execute_result",
     "data": {
      "text/plain": [
       "<module 'matplotlib.pyplot' from '/usr/local/lib/python3.9/dist-packages/matplotlib/pyplot.py'>"
      ]
     },
     "metadata": {},
     "execution_count": 278
    }
   ],
   "source": [
    "# check for overfitting\n",
    "plot_result(history_bl_3g)"
   ]
  },
  {
   "cell_type": "code",
   "execution_count": 279,
   "metadata": {
    "id": "d3KHx7wQBnRg",
    "colab": {
     "base_uri": "https://localhost:8080/"
    },
    "outputId": "4792604d-45f2-49e4-8051-b81992454e60"
   },
   "outputs": [
    {
     "output_type": "stream",
     "name": "stdout",
     "text": [
      "6/6 [==============================] - 1s 179ms/step - loss: 0.4928 - accuracy: 0.8587\n"
     ]
    },
    {
     "output_type": "execute_result",
     "data": {
      "text/plain": [
       "[0.49280473589897156, 0.8586956262588501]"
      ]
     },
     "metadata": {},
     "execution_count": 279
    }
   ],
   "source": [
    "# evaluate on test data\n",
    "model_bl.evaluate(test_data_3g)"
   ]
  },
  {
   "cell_type": "markdown",
   "metadata": {
    "id": "XrWlO2lU1rIz"
   },
   "source": [
    "### LSTM"
   ]
  },
  {
   "cell_type": "code",
   "execution_count": null,
   "metadata": {
    "colab": {
     "base_uri": "https://localhost:8080/"
    },
    "id": "TxmbMmktJk4K",
    "outputId": "4b384ed3-265a-4bd4-c96b-f2f4b08344ad"
   },
   "outputs": [
    {
     "output_type": "stream",
     "name": "stdout",
     "text": [
      "19/19 [==============================] - 0s 6ms/step - loss: 0.0056 - accuracy: 1.0000\n",
      "19/19 [==============================] - 0s 6ms/step - loss: 0.0056 - accuracy: 1.0000\n"
     ]
    },
    {
     "output_type": "execute_result",
     "data": {
      "text/plain": [
       "[0.005612088833004236, 1.0]"
      ]
     },
     "metadata": {},
     "execution_count": 266
    }
   ],
   "source": [
    "# evaluate untrained model on training and validation data\n",
    "model_lstm.evaluate(train_data_3g)\n",
    "model_lstm.evaluate(train_data_3g)"
   ]
  },
  {
   "cell_type": "code",
   "execution_count": null,
   "metadata": {
    "colab": {
     "base_uri": "https://localhost:8080/"
    },
    "id": "s6r1eQkU1vU5",
    "outputId": "0c7beb35-9704-4df0-a1db-dd3b8e0249c8"
   },
   "outputs": [
    {
     "name": "stdout",
     "output_type": "stream",
     "text": [
      "Epoch 1/6\n",
      "19/19 [==============================] - 1s 37ms/step - loss: 0.0674 - accuracy: 0.9932 - val_loss: 0.3385 - val_accuracy: 0.9301\n",
      "Epoch 2/6\n",
      "19/19 [==============================] - 1s 49ms/step - loss: 0.0494 - accuracy: 0.9949 - val_loss: 0.3679 - val_accuracy: 0.9247\n",
      "Epoch 3/6\n",
      "19/19 [==============================] - 1s 46ms/step - loss: 0.0279 - accuracy: 0.9983 - val_loss: 0.3312 - val_accuracy: 0.9301\n",
      "Epoch 4/6\n",
      "19/19 [==============================] - 0s 24ms/step - loss: 0.0221 - accuracy: 0.9983 - val_loss: 0.3648 - val_accuracy: 0.9301\n",
      "Epoch 5/6\n",
      "19/19 [==============================] - 0s 25ms/step - loss: 0.0159 - accuracy: 1.0000 - val_loss: 0.3771 - val_accuracy: 0.9355\n",
      "Epoch 6/6\n",
      "19/19 [==============================] - 0s 22ms/step - loss: 0.0143 - accuracy: 1.0000 - val_loss: 0.4032 - val_accuracy: 0.9301\n"
     ]
    }
   ],
   "source": [
    "history_lstm_3g = model_lstm.fit(train_data_3g, epochs = 6, validation_data=val_data_3g)"
   ]
  },
  {
   "cell_type": "code",
   "execution_count": null,
   "metadata": {
    "colab": {
     "base_uri": "https://localhost:8080/",
     "height": 312
    },
    "id": "C_U5UT4lMNqG",
    "outputId": "b6523f4d-9dc5-4d4b-b63b-cf31563e0a82"
   },
   "outputs": [
    {
     "data": {
      "image/png": "[encoded data removed]",
      "text/plain": [
       "<Figure size 432x288 with 1 Axes>"
      ]
     },
     "metadata": {},
     "output_type": "display_data"
    },
    {
     "data": {
      "text/plain": [
       "<module 'matplotlib.pyplot' from '/usr/local/lib/python3.9/dist-packages/matplotlib/pyplot.py'>"
      ]
     },
     "execution_count": 132,
     "metadata": {},
     "output_type": "execute_result"
    }
   ],
   "source": [
    "# check for overfitting\n",
    "plot_result(history_lstm_3g)"
   ]
  },
  {
   "cell_type": "code",
   "execution_count": null,
   "metadata": {
    "colab": {
     "base_uri": "https://localhost:8080/"
    },
    "id": "Q8ij2QgsMT4_",
    "outputId": "e6c4f10e-bfee-4af8-fde0-f326556d1d1f"
   },
   "outputs": [
    {
     "name": "stdout",
     "output_type": "stream",
     "text": [
      "6/6 [==============================] - 0s 13ms/step - loss: 0.6157 - accuracy: 0.8913\n"
     ]
    },
    {
     "data": {
      "text/plain": [
       "[0.6157464385032654, 0.8913043737411499]"
      ]
     },
     "execution_count": 133,
     "metadata": {},
     "output_type": "execute_result"
    }
   ],
   "source": [
    "# evaluate on test data\n",
    "model_lstm.evaluate(test_data_3g)"
   ]
  },
  {
   "cell_type": "markdown",
   "metadata": {
    "id": "i6TiDdDCcrcO"
   },
   "source": [
    "### RNN"
   ]
  },
  {
   "cell_type": "code",
   "execution_count": 289,
   "metadata": {
    "colab": {
     "base_uri": "https://localhost:8080/"
    },
    "id": "GxkRGB8f4g3T",
    "outputId": "c498f4a1-c6ec-4e08-ece0-5ef3f7bb4450"
   },
   "outputs": [
    {
     "output_type": "stream",
     "name": "stdout",
     "text": [
      "texts:  [b'quantitativ Analyse Bezug Vorkommnis pro Seitenzahl'\n",
      " b'Arbeit drei Hauptteil gliedern'\n",
      " b'Anschluss erl\\xc3\\xa4uteren erster Aktionszyklus Untersuchung']\n",
      "\n",
      "labels:  [0 1 1]\n"
     ]
    }
   ],
   "source": [
    "for example, label in train_data_3g.take(1):\n",
    "  print('texts: ', example.numpy()[:3])\n",
    "  print()\n",
    "  print('labels: ', label.numpy()[:3])"
   ]
  },
  {
   "cell_type": "markdown",
   "metadata": {
    "id": "SA4WRhtc29IN"
   },
   "source": [
    "Encoding"
   ]
  },
  {
   "cell_type": "code",
   "execution_count": 290,
   "metadata": {
    "id": "FmxG4ET01xlp"
   },
   "outputs": [],
   "source": [
    "VOCAB_SIZE = 1000\n",
    "encoder = tf.keras.layers.TextVectorization(\n",
    "    max_tokens=VOCAB_SIZE)\n",
    "encoder.adapt(train_data_3g.map(lambda text, label: text))"
   ]
  },
  {
   "cell_type": "code",
   "execution_count": 291,
   "metadata": {
    "colab": {
     "base_uri": "https://localhost:8080/"
    },
    "id": "1CBU7sAG1xji",
    "outputId": "d869bc29-49b4-4248-8be6-dbf61fa0ed16"
   },
   "outputs": [
    {
     "output_type": "execute_result",
     "data": {
      "text/plain": [
       "array(['', '[UNK]', 'kapitel', 'arbeit', 'teil', 'ergebnis',\n",
       "       'theoretisch', 'schüler', 'fragestellung', 'schülerin', 'erster',\n",
       "       'sowie', 'folgen', 'erläutern', 'lehrperson', 'vorliegend', 'zwei',\n",
       "       'zweiter', 'theorie', 'vorstellen'], dtype='<U22')"
      ]
     },
     "metadata": {},
     "execution_count": 291
    }
   ],
   "source": [
    "vocab = np.array(encoder.get_vocabulary())\n",
    "vocab[:20]"
   ]
  },
  {
   "cell_type": "code",
   "execution_count": 292,
   "metadata": {
    "colab": {
     "base_uri": "https://localhost:8080/"
    },
    "id": "2oc92q-o4FIb",
    "outputId": "3907b987-9c32-4f6f-9ff7-c2a213ee14ff"
   },
   "outputs": [
    {
     "output_type": "execute_result",
     "data": {
      "text/plain": [
       "array([[402,  63,  53, 947, 617,   1,   0,   0,   0,   0,   0,   0,   0,\n",
       "          0,   0,   0,   0,   0,   0],\n",
       "       [  3,  27, 122,  51,   0,   0,   0,   0,   0,   0,   0,   0,   0,\n",
       "          0,   0,   0,   0,   0,   0],\n",
       "       [208, 742,  10, 505,  20,   0,   0,   0,   0,   0,   0,   0,   0,\n",
       "          0,   0,   0,   0,   0,   0]])"
      ]
     },
     "metadata": {},
     "execution_count": 292
    }
   ],
   "source": [
    "# encoded examples are zero-padded to the longest sequence in the batch\n",
    "encoded_example = encoder(example)[:3].numpy()\n",
    "encoded_example"
   ]
  },
  {
   "cell_type": "code",
   "execution_count": 293,
   "metadata": {
    "colab": {
     "base_uri": "https://localhost:8080/"
    },
    "id": "zCZh0jO25F6p",
    "outputId": "9fbbc03b-b403-4607-c092-787d5f698cb5"
   },
   "outputs": [
    {
     "output_type": "stream",
     "name": "stdout",
     "text": [
      "Original:  b'quantitativ Analyse Bezug Vorkommnis pro Seitenzahl'\n",
      "Round-trip:  quantitativ analyse bezug vorkommnis pro [UNK]             \n",
      "\n",
      "Original:  b'Arbeit drei Hauptteil gliedern'\n",
      "Round-trip:  arbeit drei hauptteil gliedern               \n",
      "\n",
      "Original:  b'Anschluss erl\\xc3\\xa4uteren erster Aktionszyklus Untersuchung'\n",
      "Round-trip:  anschluss erläuteren erster aktionszyklus untersuchung              \n",
      "\n"
     ]
    }
   ],
   "source": [
    "for n in range(3):\n",
    "  print(\"Original: \", example[n].numpy())\n",
    "  print(\"Round-trip: \", \" \".join(vocab[encoded_example[n]]))\n",
    "  print()"
   ]
  },
  {
   "cell_type": "markdown",
   "metadata": {
    "id": "_RkoUtRZ5KWr"
   },
   "source": [
    "Model"
   ]
  },
  {
   "cell_type": "code",
   "execution_count": 294,
   "metadata": {
    "id": "1mnQBOlk2-Ha"
   },
   "outputs": [],
   "source": [
    "# create model\n",
    "model = tf.keras.Sequential([\n",
    "    encoder,\n",
    "    tf.keras.layers.Embedding(\n",
    "        input_dim=len(encoder.get_vocabulary()),\n",
    "        output_dim=64,\n",
    "        # Use masking to handle the variable sequence lengths\n",
    "        mask_zero=True),\n",
    "    tf.keras.layers.Bidirectional(tf.keras.layers.LSTM(64)),\n",
    "    tf.keras.layers.Dense(64, activation='relu'),\n",
    "    tf.keras.layers.Dense(1)\n",
    "])"
   ]
  },
  {
   "cell_type": "code",
   "execution_count": 295,
   "metadata": {
    "colab": {
     "base_uri": "https://localhost:8080/"
    },
    "id": "N-mJqTLk3zxE",
    "outputId": "9231e98f-20fe-4c6d-9d57-da8bd09bc6a1"
   },
   "outputs": [
    {
     "output_type": "stream",
     "name": "stdout",
     "text": [
      "[False, True, True, True, True]\n"
     ]
    }
   ],
   "source": [
    "print([layer.supports_masking for layer in model.layers])"
   ]
  },
  {
   "cell_type": "code",
   "execution_count": 296,
   "metadata": {
    "colab": {
     "base_uri": "https://localhost:8080/"
    },
    "id": "qGlWxum038j1",
    "outputId": "70812177-8183-4915-ea76-1e5f467258b1"
   },
   "outputs": [
    {
     "output_type": "stream",
     "name": "stdout",
     "text": [
      "1/1 [==============================] - 3s 3s/step\n",
      "[-0.01309843]\n"
     ]
    }
   ],
   "source": [
    "# predict on a sample text without padding.\n",
    "\n",
    "sample_text = ('The movie was cool. The animation and the graphics '\n",
    "               'were out of this world. I would recommend this movie.')\n",
    "predictions = model.predict(np.array([sample_text]))\n",
    "print(predictions[0])"
   ]
  },
  {
   "cell_type": "code",
   "execution_count": 297,
   "metadata": {
    "id": "XRQqZCdj5Yyb"
   },
   "outputs": [],
   "source": [
    "model.compile(loss=tf.keras.losses.BinaryCrossentropy(from_logits=True),\n",
    "              optimizer=tf.keras.optimizers.Adam(1e-4),\n",
    "              metrics=['accuracy'])"
   ]
  },
  {
   "cell_type": "code",
   "execution_count": 298,
   "metadata": {
    "colab": {
     "base_uri": "https://localhost:8080/"
    },
    "id": "6Pu8Zh5d5drS",
    "outputId": "e12cd436-55bb-4d6d-81f0-c56c94b59e90"
   },
   "outputs": [
    {
     "output_type": "stream",
     "name": "stdout",
     "text": [
      "Epoch 1/10\n",
      "19/19 [==============================] - ETA: 0s - loss: 0.6915 - accuracy: 0.5000"
     ]
    },
    {
     "output_type": "stream",
     "name": "stderr",
     "text": [
      "WARNING:tensorflow:Your input ran out of data; interrupting training. Make sure that your dataset or generator can generate at least `steps_per_epoch * epochs` batches (in this case, 30 batches). You may need to use the repeat() function when building your dataset.\n"
     ]
    },
    {
     "output_type": "stream",
     "name": "stdout",
     "text": [
      "\b\b\b\b\b\b\b\b\b\b\b\b\b\b\b\b\b\b\b\b\b\b\b\b\b\b\b\b\b\b\b\b\b\b\b\b\b\b\b\b\b\b\b\b\b\b\b\b\b\b\b\b\b\b\b\b\b\b\b\b\b\b\b\b\b\b\b\b\b\b\b\b\b\b\b\b\b\b\b\b\b\b\r19/19 [==============================] - 15s 324ms/step - loss: 0.6915 - accuracy: 0.5000 - val_loss: 0.6887 - val_accuracy: 0.5000\n",
      "Epoch 2/10\n",
      "19/19 [==============================] - 1s 42ms/step - loss: 0.6882 - accuracy: 0.5000\n",
      "Epoch 3/10\n",
      "19/19 [==============================] - 1s 41ms/step - loss: 0.6837 - accuracy: 0.5000\n",
      "Epoch 4/10\n",
      "19/19 [==============================] - 1s 40ms/step - loss: 0.6771 - accuracy: 0.5000\n",
      "Epoch 5/10\n",
      "19/19 [==============================] - 1s 43ms/step - loss: 0.6663 - accuracy: 0.5000\n",
      "Epoch 6/10\n",
      "19/19 [==============================] - 1s 41ms/step - loss: 0.6494 - accuracy: 0.5000\n",
      "Epoch 7/10\n",
      "19/19 [==============================] - 1s 41ms/step - loss: 0.6207 - accuracy: 0.5000\n",
      "Epoch 8/10\n",
      "19/19 [==============================] - 1s 42ms/step - loss: 0.5752 - accuracy: 0.5154\n",
      "Epoch 9/10\n",
      "19/19 [==============================] - 1s 42ms/step - loss: 0.5046 - accuracy: 0.6421\n",
      "Epoch 10/10\n",
      "19/19 [==============================] - 1s 39ms/step - loss: 0.4097 - accuracy: 0.8253\n"
     ]
    }
   ],
   "source": [
    "history = model.fit(train_data_3g, epochs=10,\n",
    "                    validation_data=test_data_3g,\n",
    "                    validation_steps=30)"
   ]
  },
  {
   "cell_type": "code",
   "execution_count": 299,
   "metadata": {
    "id": "rUxbWwYJ5sQy",
    "colab": {
     "base_uri": "https://localhost:8080/"
    },
    "outputId": "cd8a828b-c99a-4295-da2d-bfe1acd03967"
   },
   "outputs": [
    {
     "output_type": "stream",
     "name": "stdout",
     "text": [
      "6/6 [==============================] - 0s 12ms/step - loss: 0.4070 - accuracy: 0.8152\n",
      "Test Loss: 0.40700945258140564\n",
      "Test Accuracy: 0.8152173757553101\n"
     ]
    }
   ],
   "source": [
    "test_loss, test_acc = model.evaluate(test_data_3g)\n",
    "\n",
    "print('Test Loss:', test_loss)\n",
    "print('Test Accuracy:', test_acc)"
   ]
  },
  {
   "cell_type": "markdown",
   "source": [
    "### CNN"
   ],
   "metadata": {
    "id": "EvbYOlMf_WcZ"
   }
  },
  {
   "cell_type": "code",
   "source": [
    "history_cnn_3g = model_cnn.fit(train_data_3g, epochs=6, validation_data=val_data_3g)"
   ],
   "metadata": {
    "colab": {
     "base_uri": "https://localhost:8080/"
    },
    "id": "RYbDuvrcD_8W",
    "outputId": "bc75bb03-7eb6-42e8-9537-4d27496ffc12"
   },
   "execution_count": 320,
   "outputs": [
    {
     "output_type": "stream",
     "name": "stdout",
     "text": [
      "Epoch 1/6\n",
      "19/19 [==============================] - 2s 26ms/step - loss: 0.6804 - accuracy: 0.6113 - val_loss: 0.6334 - val_accuracy: 0.7527\n",
      "Epoch 2/6\n",
      "19/19 [==============================] - 1s 44ms/step - loss: 0.5745 - accuracy: 0.8476 - val_loss: 0.4872 - val_accuracy: 0.8548\n",
      "Epoch 3/6\n",
      "19/19 [==============================] - 1s 46ms/step - loss: 0.3572 - accuracy: 0.9538 - val_loss: 0.2929 - val_accuracy: 0.8871\n",
      "Epoch 4/6\n",
      "19/19 [==============================] - 0s 24ms/step - loss: 0.1554 - accuracy: 0.9675 - val_loss: 0.2080 - val_accuracy: 0.9032\n",
      "Epoch 5/6\n",
      "19/19 [==============================] - 0s 24ms/step - loss: 0.0683 - accuracy: 0.9829 - val_loss: 0.2144 - val_accuracy: 0.8978\n",
      "Epoch 6/6\n",
      "19/19 [==============================] - 0s 23ms/step - loss: 0.0359 - accuracy: 0.9949 - val_loss: 0.2277 - val_accuracy: 0.8978\n"
     ]
    }
   ]
  },
  {
   "cell_type": "code",
   "source": [
    "# check for overfitting\n",
    "plot_result(history_cnn_3g)"
   ],
   "metadata": {
    "colab": {
     "base_uri": "https://localhost:8080/",
     "height": 312
    },
    "id": "981bAO1bG7lz",
    "outputId": "282208af-49ac-46e2-8aa1-ebf44e227061"
   },
   "execution_count": 322,
   "outputs": [
    {
     "output_type": "display_data",
     "data": {
      "text/plain": [
       "<Figure size 432x288 with 1 Axes>"
      ],
      "image/png": "[encoded data removed]"
     },
     "metadata": {
      "needs_background": "light"
     }
    },
    {
     "output_type": "execute_result",
     "data": {
      "text/plain": [
       "<module 'matplotlib.pyplot' from '/usr/local/lib/python3.9/dist-packages/matplotlib/pyplot.py'>"
      ]
     },
     "metadata": {},
     "execution_count": 322
    }
   ]
  },
  {
   "cell_type": "code",
   "source": [
    "# evaluate on test data\n",
    "model_cnn.evaluate(test_data_3g)"
   ],
   "metadata": {
    "colab": {
     "base_uri": "https://localhost:8080/"
    },
    "id": "WIOsgRtvCXjS",
    "outputId": "37f17f42-cd63-417a-9d32-f7c69b55b2c8"
   },
   "execution_count": 321,
   "outputs": [
    {
     "output_type": "stream",
     "name": "stdout",
     "text": [
      "6/6 [==============================] - 0s 6ms/step - loss: 0.2485 - accuracy: 0.9239\n"
     ]
    },
    {
     "output_type": "execute_result",
     "data": {
      "text/plain": [
       "[0.24853837490081787, 0.9239130616188049]"
      ]
     },
     "metadata": {},
     "execution_count": 321
    }
   ]
  },
  {
   "cell_type": "markdown",
   "metadata": {
    "id": "eC3PJpnTvtgf"
   },
   "source": [
    "## Subnet B: Step 3b/not step 3b\n",
    "Binary classification Step 3b/not step 3b\n"
   ]
  },
  {
   "cell_type": "markdown",
   "source": [
    "### Baseline: simple Sequential Model"
   ],
   "metadata": {
    "id": "qfZWTXKEAtkS"
   }
  },
  {
   "cell_type": "code",
   "execution_count": null,
   "metadata": {
    "colab": {
     "base_uri": "https://localhost:8080/"
    },
    "id": "r_6gBVRs1U8s",
    "outputId": "757750d6-b5c8-4531-ecb1-cb0e618cd603"
   },
   "outputs": [
    {
     "name": "stdout",
     "output_type": "stream",
     "text": [
      "4/4 [==============================] - 1s 172ms/step - loss: 0.0628 - accuracy: 1.0000\n",
      "4/4 [==============================] - 1s 170ms/step - loss: 0.0628 - accuracy: 1.0000\n"
     ]
    },
    {
     "data": {
      "text/plain": [
       "[0.06277505308389664, 1.0]"
      ]
     },
     "execution_count": 230,
     "metadata": {},
     "output_type": "execute_result"
    }
   ],
   "source": [
    "# evaluate untrained model on training and validation data\n",
    "model_bl.evaluate(train_data_3b)\n",
    "model_bl.evaluate(train_data_3b)"
   ]
  },
  {
   "cell_type": "code",
   "execution_count": null,
   "metadata": {
    "colab": {
     "background_save": true,
     "base_uri": "https://localhost:8080/"
    },
    "id": "HSvzndN7-92Z",
    "outputId": "1ba675b6-0fbc-487f-e1c3-90f76a17a99b"
   },
   "outputs": [
    {
     "name": "stdout",
     "output_type": "stream",
     "text": [
      "Epoch 1/6\n",
      "4/4 [==============================] - 10s 3s/step - loss: 0.1167 - accuracy: 0.9841 - val_loss: 0.5172 - val_accuracy: 0.6897\n",
      "Epoch 2/6\n",
      "4/4 [==============================] - 5s 1s/step - loss: 0.1144 - accuracy: 0.9841 - val_loss: 0.5156 - val_accuracy: 0.6897\n",
      "Epoch 3/6\n",
      "4/4 [==============================] - 6s 2s/step - loss: 0.0840 - accuracy: 0.9841 - val_loss: 0.5166 - val_accuracy: 0.6897\n",
      "Epoch 4/6\n",
      "4/4 [==============================] - 7s 2s/step - loss: 0.0980 - accuracy: 0.9841 - val_loss: 0.5196 - val_accuracy: 0.6897\n",
      "Epoch 5/6\n",
      "4/4 [==============================] - 5s 1s/step - loss: 0.0954 - accuracy: 0.9841 - val_loss: 0.5235 - val_accuracy: 0.6897\n",
      "Epoch 6/6\n",
      "4/4 [==============================] - 6s 2s/step - loss: 0.0636 - accuracy: 0.9921 - val_loss: 0.5284 - val_accuracy: 0.6897\n"
     ]
    }
   ],
   "source": [
    "# train model\n",
    "history_bl_3b = model_bl.fit(train_data_3b, epochs = 6, validation_data=val_data_3b)"
   ]
  },
  {
   "cell_type": "code",
   "execution_count": null,
   "metadata": {
    "colab": {
     "background_save": true
    },
    "id": "qYoiLD9O_PJe",
    "outputId": "778754e8-d9e5-4eab-b7d0-f38b0d3678ab"
   },
   "outputs": [
    {
     "data": {
      "image/png": "[encoded data removed]",
      "text/plain": [
       "<Figure size 432x288 with 1 Axes>"
      ]
     },
     "metadata": {},
     "output_type": "display_data"
    },
    {
     "data": {
      "text/plain": [
       "<module 'matplotlib.pyplot' from '/usr/local/lib/python3.9/dist-packages/matplotlib/pyplot.py'>"
      ]
     },
     "execution_count": 232,
     "metadata": {},
     "output_type": "execute_result"
    }
   ],
   "source": [
    "# check for overfitting\n",
    "plot_result(history_bl_3b)"
   ]
  },
  {
   "cell_type": "code",
   "execution_count": null,
   "metadata": {
    "colab": {
     "background_save": true
    },
    "id": "Ik0d8X87_U2g",
    "outputId": "f02f834c-4a11-4bb7-c304-6e3e338b4f0f"
   },
   "outputs": [
    {
     "name": "stdout",
     "output_type": "stream",
     "text": [
      "2/2 [==============================] - 0s 174ms/step - loss: 0.6762 - accuracy: 0.6875\n"
     ]
    },
    {
     "data": {
      "text/plain": [
       "[0.6761987805366516, 0.6875]"
      ]
     },
     "execution_count": 233,
     "metadata": {},
     "output_type": "execute_result"
    }
   ],
   "source": [
    "# evaluate on test data\n",
    "model_bl.evaluate(test_data_3b)"
   ]
  },
  {
   "cell_type": "markdown",
   "metadata": {
    "id": "ND-mQEVD1ZIt"
   },
   "source": [
    "### LSTM\n",
    "\n",
    "TODO: Adapt encoder above if necessary"
   ]
  },
  {
   "cell_type": "code",
   "execution_count": 326,
   "metadata": {
    "colab": {
     "base_uri": "https://localhost:8080/"
    },
    "id": "yJYi36VG1U6U",
    "outputId": "84cbbe80-fc83-4b94-b810-4fde7d0e68a3"
   },
   "outputs": [
    {
     "output_type": "stream",
     "name": "stdout",
     "text": [
      "4/4 [==============================] - 0s 15ms/step - loss: 0.6932 - accuracy: 0.4921\n",
      "2/2 [==============================] - 0s 22ms/step - loss: 0.6933 - accuracy: 0.5345\n"
     ]
    },
    {
     "output_type": "execute_result",
     "data": {
      "text/plain": [
       "[0.6933080554008484, 0.5344827771186829]"
      ]
     },
     "metadata": {},
     "execution_count": 326
    }
   ],
   "source": [
    "# evaluate untrained model on training and validation data\n",
    "model_lstm.evaluate(train_data_3b)\n",
    "model_lstm.evaluate(val_data_3b)"
   ]
  },
  {
   "cell_type": "code",
   "execution_count": 327,
   "metadata": {
    "id": "ucXcyr_x1U4f",
    "colab": {
     "base_uri": "https://localhost:8080/"
    },
    "outputId": "ea04f96a-bf12-4f73-ee6a-b8b633fb2f2b"
   },
   "outputs": [
    {
     "output_type": "stream",
     "name": "stdout",
     "text": [
      "Epoch 1/6\n",
      "4/4 [==============================] - 7s 2s/step - loss: 0.8589 - accuracy: 0.4048 - val_loss: 0.7288 - val_accuracy: 0.5517\n",
      "Epoch 2/6\n",
      "4/4 [==============================] - 6s 2s/step - loss: 0.7730 - accuracy: 0.4127 - val_loss: 0.7141 - val_accuracy: 0.5345\n",
      "Epoch 3/6\n",
      "4/4 [==============================] - 6s 1s/step - loss: 0.7722 - accuracy: 0.5159 - val_loss: 0.7020 - val_accuracy: 0.5345\n",
      "Epoch 4/6\n",
      "4/4 [==============================] - 5s 1s/step - loss: 0.6753 - accuracy: 0.5794 - val_loss: 0.6922 - val_accuracy: 0.5690\n",
      "Epoch 5/6\n",
      "4/4 [==============================] - 6s 2s/step - loss: 0.6264 - accuracy: 0.6349 - val_loss: 0.6844 - val_accuracy: 0.5690\n",
      "Epoch 6/6\n",
      "4/4 [==============================] - 6s 2s/step - loss: 0.6240 - accuracy: 0.6746 - val_loss: 0.6776 - val_accuracy: 0.5690\n"
     ]
    }
   ],
   "source": [
    "# train model\n",
    "history_lstm_3b = model_bl.fit(train_data_3b, epochs = 6, validation_data=val_data_3b)"
   ]
  },
  {
   "cell_type": "code",
   "execution_count": 328,
   "metadata": {
    "colab": {
     "base_uri": "https://localhost:8080/",
     "height": 312
    },
    "id": "wgJJndXJM35E",
    "outputId": "6ff5be97-ef49-489e-9fdd-6aaa4fb2691b"
   },
   "outputs": [
    {
     "output_type": "display_data",
     "data": {
      "text/plain": [
       "<Figure size 432x288 with 1 Axes>"
      ],
      "image/png": "[encoded data removed]"
     },
     "metadata": {
      "needs_background": "light"
     }
    },
    {
     "output_type": "execute_result",
     "data": {
      "text/plain": [
       "<module 'matplotlib.pyplot' from '/usr/local/lib/python3.9/dist-packages/matplotlib/pyplot.py'>"
      ]
     },
     "metadata": {},
     "execution_count": 328
    }
   ],
   "source": [
    "# check for overfitting\n",
    "plot_result(history_lstm_3b)"
   ]
  },
  {
   "cell_type": "code",
   "execution_count": 329,
   "metadata": {
    "colab": {
     "base_uri": "https://localhost:8080/"
    },
    "id": "lduyGdWvM9gA",
    "outputId": "7b0aa786-46fc-4c5a-a475-3fd62c4e68ab"
   },
   "outputs": [
    {
     "output_type": "stream",
     "name": "stdout",
     "text": [
      "2/2 [==============================] - 0s 13ms/step - loss: 0.6933 - accuracy: 0.4844\n"
     ]
    },
    {
     "output_type": "execute_result",
     "data": {
      "text/plain": [
       "[0.6933112740516663, 0.484375]"
      ]
     },
     "metadata": {},
     "execution_count": 329
    }
   ],
   "source": [
    "# evaluate on test data\n",
    "model_lstm.evaluate(test_data_3b)"
   ]
  },
  {
   "cell_type": "markdown",
   "metadata": {
    "id": "fT2lAZ-g1bTw"
   },
   "source": [
    "### CNN"
   ]
  },
  {
   "cell_type": "code",
   "execution_count": 330,
   "metadata": {
    "colab": {
     "base_uri": "https://localhost:8080/"
    },
    "id": "T5m3lgpJ1dij",
    "outputId": "6ca8d3a4-31ec-4671-eaba-7a628342a628"
   },
   "outputs": [
    {
     "output_type": "stream",
     "name": "stdout",
     "text": [
      "Epoch 1/6\n",
      "4/4 [==============================] - 0s 43ms/step - loss: 3.0495 - accuracy: 0.3413 - val_loss: 1.5734 - val_accuracy: 0.3793\n",
      "Epoch 2/6\n",
      "4/4 [==============================] - 0s 23ms/step - loss: 1.8118 - accuracy: 0.4206 - val_loss: 1.0360 - val_accuracy: 0.5517\n",
      "Epoch 3/6\n",
      "4/4 [==============================] - 0s 34ms/step - loss: 1.1786 - accuracy: 0.5794 - val_loss: 1.1952 - val_accuracy: 0.5000\n",
      "Epoch 4/6\n",
      "4/4 [==============================] - 0s 31ms/step - loss: 0.9246 - accuracy: 0.6032 - val_loss: 0.9555 - val_accuracy: 0.5172\n",
      "Epoch 5/6\n",
      "4/4 [==============================] - 0s 24ms/step - loss: 0.6481 - accuracy: 0.7063 - val_loss: 0.7731 - val_accuracy: 0.6207\n",
      "Epoch 6/6\n",
      "4/4 [==============================] - 0s 46ms/step - loss: 0.5071 - accuracy: 0.7857 - val_loss: 0.6708 - val_accuracy: 0.6034\n"
     ]
    }
   ],
   "source": [
    "history_cnn_3b = model_cnn.fit(train_data_3b, epochs=6, validation_data=val_data_3b)"
   ]
  },
  {
   "cell_type": "code",
   "execution_count": 333,
   "metadata": {
    "colab": {
     "base_uri": "https://localhost:8080/",
     "height": 312
    },
    "id": "UpqcZZil1dge",
    "outputId": "e4879ea2-cb92-42ba-a735-016c7631e995"
   },
   "outputs": [
    {
     "output_type": "display_data",
     "data": {
      "text/plain": [
       "<Figure size 432x288 with 1 Axes>"
      ],
      "image/png": "[encoded data removed]"
     },
     "metadata": {
      "needs_background": "light"
     }
    },
    {
     "output_type": "execute_result",
     "data": {
      "text/plain": [
       "<module 'matplotlib.pyplot' from '/usr/local/lib/python3.9/dist-packages/matplotlib/pyplot.py'>"
      ]
     },
     "metadata": {},
     "execution_count": 333
    }
   ],
   "source": [
    "# check for overfitting\n",
    "plot_result(history_cnn_3b)"
   ]
  },
  {
   "cell_type": "code",
   "execution_count": 334,
   "metadata": {
    "id": "O6B14c9k1eW_",
    "colab": {
     "base_uri": "https://localhost:8080/"
    },
    "outputId": "4fdf41a0-e801-4f2d-a87f-bb1b02440729"
   },
   "outputs": [
    {
     "output_type": "stream",
     "name": "stdout",
     "text": [
      "6/6 [==============================] - 0s 9ms/step - loss: 0.5398 - accuracy: 0.7065\n"
     ]
    },
    {
     "output_type": "execute_result",
     "data": {
      "text/plain": [
       "[0.5397834777832031, 0.70652174949646]"
      ]
     },
     "metadata": {},
     "execution_count": 334
    }
   ],
   "source": [
    "# evaluate on test data\n",
    "model_cnn.evaluate(test_data_3g)"
   ]
  },
  {
   "cell_type": "markdown",
   "metadata": {
    "id": "nn1GyHHx-XlO"
   },
   "source": [
    "---------------------------------------------------------------------------------\n"
   ]
  }
 ],
 "metadata": {
  "colab": {
   "provenance": [],
   "toc_visible": true
  },
  "kernelspec": {
   "display_name": "Python 3",
   "name": "python3"
  },
  "language_info": {
   "name": "python"
  }
 },
 "nbformat": 4,
 "nbformat_minor": 0
}
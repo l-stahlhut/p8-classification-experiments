{
  "nbformat": 4,
  "nbformat_minor": 0,
  "metadata": {
    "colab": {
      "provenance": []
    },
    "kernelspec": {
      "name": "python3",
      "display_name": "Python 3"
    },
    "language_info": {
      "name": "python"
    }
  },
  "cells": [
    {
      "cell_type": "markdown",
      "source": [
        "# CNN Experiments for classifying step 3g"
      ],
      "metadata": {
        "id": "_HiMveiLEmOs"
      }
    },
    {
      "cell_type": "code",
      "execution_count": 81,
      "metadata": {
        "colab": {
          "base_uri": "https://localhost:8080/"
        },
        "id": "AaLffXEpk5jh",
        "outputId": "9e165cec-4ec3-44ca-9645-126772c776a2"
      },
      "outputs": [
        {
          "output_type": "stream",
          "name": "stdout",
          "text": [
            "Drive already mounted at /content/drive; to attempt to forcibly remount, call drive.mount(\"/content/drive\", force_remount=True).\n"
          ]
        }
      ],
      "source": [
        "from google.colab import drive\n",
        "drive.mount('/content/drive')"
      ]
    },
    {
      "cell_type": "code",
      "source": [
        "import os\n",
        "import pandas as pd\n",
        "import numpy as np\n",
        "import matplotlib.pyplot as plt\n",
        "\n",
        "import tensorflow as tf"
      ],
      "metadata": {
        "id": "-vael-Y2k9Vv"
      },
      "execution_count": 82,
      "outputs": []
    },
    {
      "cell_type": "code",
      "source": [
        "! pip install datasets transformers"
      ],
      "metadata": {
        "colab": {
          "base_uri": "https://localhost:8080/"
        },
        "id": "YN5pl4xaP2qt",
        "outputId": "3328103c-486d-4b1b-e4b1-abc758b9c549"
      },
      "execution_count": null,
      "outputs": [
        {
          "output_type": "stream",
          "name": "stdout",
          "text": [
            "Looking in indexes: https://pypi.org/simple, https://us-python.pkg.dev/colab-wheels/public/simple/\n",
            "Requirement already satisfied: datasets in /usr/local/lib/python3.9/dist-packages (2.10.1)\n",
            "Requirement already satisfied: transformers in /usr/local/lib/python3.9/dist-packages (4.26.1)\n",
            "Requirement already satisfied: requests>=2.19.0 in /usr/local/lib/python3.9/dist-packages (from datasets) (2.25.1)\n",
            "Requirement already satisfied: fsspec[http]>=2021.11.1 in /usr/local/lib/python3.9/dist-packages (from datasets) (2023.3.0)\n",
            "Requirement already satisfied: huggingface-hub<1.0.0,>=0.2.0 in /usr/local/lib/python3.9/dist-packages (from datasets) (0.13.2)\n",
            "Requirement already satisfied: aiohttp in /usr/local/lib/python3.9/dist-packages (from datasets) (3.8.4)\n",
            "Requirement already satisfied: pyyaml>=5.1 in /usr/local/lib/python3.9/dist-packages (from datasets) (6.0)\n",
            "Requirement already satisfied: responses<0.19 in /usr/local/lib/python3.9/dist-packages (from datasets) (0.18.0)\n",
            "Requirement already satisfied: multiprocess in /usr/local/lib/python3.9/dist-packages (from datasets) (0.70.14)\n",
            "Requirement already satisfied: tqdm>=4.62.1 in /usr/local/lib/python3.9/dist-packages (from datasets) (4.65.0)\n",
            "Requirement already satisfied: xxhash in /usr/local/lib/python3.9/dist-packages (from datasets) (3.2.0)\n",
            "Requirement already satisfied: pandas in /usr/local/lib/python3.9/dist-packages (from datasets) (1.4.4)\n",
            "Requirement already satisfied: packaging in /usr/local/lib/python3.9/dist-packages (from datasets) (23.0)\n",
            "Requirement already satisfied: numpy>=1.17 in /usr/local/lib/python3.9/dist-packages (from datasets) (1.22.4)\n",
            "Requirement already satisfied: dill<0.3.7,>=0.3.0 in /usr/local/lib/python3.9/dist-packages (from datasets) (0.3.6)\n",
            "Requirement already satisfied: pyarrow>=6.0.0 in /usr/local/lib/python3.9/dist-packages (from datasets) (9.0.0)\n",
            "Traceback (most recent call last):\n",
            "  File \"/usr/local/lib/python3.9/dist-packages/pip/_vendor/pkg_resources/__init__.py\", line 3021, in _dep_map\n",
            "    return self.__dep_map\n",
            "  File \"/usr/local/lib/python3.9/dist-packages/pip/_vendor/pkg_resources/__init__.py\", line 2815, in __getattr__\n",
            "    raise AttributeError(attr)\n",
            "AttributeError: _DistInfoDistribution__dep_map\n",
            "\n",
            "During handling of the above exception, another exception occurred:\n",
            "\n",
            "Traceback (most recent call last):\n",
            "  File \"/usr/local/lib/python3.9/dist-packages/pip/_internal/cli/base_command.py\", line 167, in exc_logging_wrapper\n",
            "    status = run_func(*args)\n",
            "  File \"/usr/local/lib/python3.9/dist-packages/pip/_internal/cli/req_command.py\", line 199, in wrapper\n",
            "    return func(self, options, args)\n",
            "  File \"/usr/local/lib/python3.9/dist-packages/pip/_internal/commands/install.py\", line 339, in run\n",
            "    requirement_set = resolver.resolve(\n",
            "  File \"/usr/local/lib/python3.9/dist-packages/pip/_internal/resolution/resolvelib/resolver.py\", line 94, in resolve\n",
            "    result = self._result = resolver.resolve(\n",
            "  File \"/usr/local/lib/python3.9/dist-packages/pip/_vendor/resolvelib/resolvers.py\", line 481, in resolve\n",
            "    state = resolution.resolve(requirements, max_rounds=max_rounds)\n",
            "  File \"/usr/local/lib/python3.9/dist-packages/pip/_vendor/resolvelib/resolvers.py\", line 373, in resolve\n",
            "    failure_causes = self._attempt_to_pin_criterion(name)\n",
            "  File \"/usr/local/lib/python3.9/dist-packages/pip/_vendor/resolvelib/resolvers.py\", line 213, in _attempt_to_pin_criterion\n",
            "    criteria = self._get_updated_criteria(candidate)\n",
            "  File \"/usr/local/lib/python3.9/dist-packages/pip/_vendor/resolvelib/resolvers.py\", line 203, in _get_updated_criteria\n",
            "    for requirement in self._p.get_dependencies(candidate=candidate):\n",
            "  File \"/usr/local/lib/python3.9/dist-packages/pip/_internal/resolution/resolvelib/provider.py\", line 237, in get_dependencies\n",
            "    return [r for r in candidate.iter_dependencies(with_requires) if r is not None]\n",
            "  File \"/usr/local/lib/python3.9/dist-packages/pip/_internal/resolution/resolvelib/provider.py\", line 237, in <listcomp>\n",
            "    return [r for r in candidate.iter_dependencies(with_requires) if r is not None]\n",
            "  File \"/usr/local/lib/python3.9/dist-packages/pip/_internal/resolution/resolvelib/candidates.py\", line 386, in iter_dependencies\n",
            "    for r in self.dist.iter_dependencies():\n",
            "  File \"/usr/local/lib/python3.9/dist-packages/pip/_internal/metadata/pkg_resources.py\", line 202, in iter_dependencies\n",
            "    return self._dist.requires(extras)\n",
            "  File \"/usr/local/lib/python3.9/dist-packages/pip/_vendor/pkg_resources/__init__.py\", line 2736, in requires\n",
            "    dm = self._dep_map\n",
            "  File \"/usr/local/lib/python3.9/dist-packages/pip/_vendor/pkg_resources/__init__.py\", line 3023, in _dep_map\n",
            "    self.__dep_map = self._compute_dependencies()\n",
            "  File \"/usr/local/lib/python3.9/dist-packages/pip/_vendor/pkg_resources/__init__.py\", line 3045, in _compute_dependencies\n",
            "    dm[s_extra] = list(frozenset(reqs_for_extra(extra)) - common)\n",
            "  File \"/usr/local/lib/python3.9/dist-packages/pip/_vendor/pkg_resources/__init__.py\", line 3037, in reqs_for_extra\n",
            "    if not req.marker or req.marker.evaluate({'extra': extra}):\n",
            "  File \"/usr/local/lib/python3.9/dist-packages/pip/_vendor/packaging/markers.py\", line 300, in evaluate\n",
            "    current_environment = default_environment()\n",
            "  File \"/usr/local/lib/python3.9/dist-packages/pip/_vendor/packaging/markers.py\", line 258, in default_environment\n",
            "    iver = format_full_version(sys.implementation.version)\n",
            "  File \"/usr/local/lib/python3.9/dist-packages/pip/_vendor/packaging/markers.py\", line 249, in format_full_version\n",
            "    def format_full_version(info: \"sys._version_info\") -> str:\n",
            "KeyboardInterrupt\n",
            "\n",
            "During handling of the above exception, another exception occurred:\n",
            "\n",
            "Traceback (most recent call last):\n",
            "  File \"/usr/local/bin/pip3\", line 8, in <module>\n",
            "    sys.exit(main())\n",
            "  File \"/usr/local/lib/python3.9/dist-packages/pip/_internal/cli/main.py\", line 70, in main\n",
            "    return command.main(cmd_args)\n",
            "  File \"/usr/local/lib/python3.9/dist-packages/pip/_internal/cli/base_command.py\", line 101, in main\n",
            "    return self._main(args)\n",
            "  File \"/usr/local/lib/python3.9/dist-packages/pip/_internal/cli/base_command.py\", line 221, in _main\n",
            "    return run(options, args)\n",
            "  File \"/usr/local/lib/python3.9/dist-packages/pip/_internal/cli/base_command.py\", line 204, in exc_logging_wrapper\n",
            "    logger.critical(\"Operation cancelled by user\")\n",
            "  File \"/usr/lib/python3.9/logging/__init__.py\", line 1493, in critical\n",
            "    self._log(CRITICAL, msg, args, **kwargs)\n",
            "  File \"/usr/lib/python3.9/logging/__init__.py\", line 1577, in _log\n",
            "    fn, lno, func, sinfo = self.findCaller(stack_info, stacklevel)\n",
            "  File \"/usr/lib/python3.9/logging/__init__.py\", line 1523, in findCaller\n",
            "    f = f.f_back\n",
            "KeyboardInterrupt\n",
            "^C\n"
          ]
        }
      ]
    },
    {
      "cell_type": "code",
      "source": [
        "import transformers\n",
        "print(transformers.__version__)"
      ],
      "metadata": {
        "colab": {
          "base_uri": "https://localhost:8080/"
        },
        "id": "Z3N1fGKEPvLq",
        "outputId": "7935a32b-46e6-44b0-a745-6e54416b40c3"
      },
      "execution_count": 83,
      "outputs": [
        {
          "output_type": "stream",
          "name": "stdout",
          "text": [
            "4.26.1\n"
          ]
        }
      ]
    },
    {
      "cell_type": "markdown",
      "source": [
        "# 0. Load Data"
      ],
      "metadata": {
        "id": "hFKcZLBxpYKZ"
      }
    },
    {
      "cell_type": "code",
      "source": [
        "# load data\n",
        "path = 'drive/My Drive/P8/data'\n",
        "train = pd.read_csv(os.path.join(path, \"train_I1.csv\"), encoding='utf8', dtype={'text_id': str, 'sentence': str, 'label': str})\n",
        "val = pd.read_csv(os.path.join(path, \"val_I1.csv\"), encoding='utf8', dtype={'text_id': str, 'sentence': str, 'label': str})\n",
        "test = pd.read_csv(os.path.join(path, \"test_I1.csv\"), encoding='utf8', dtype={'text_id': str, 'sentence': str, 'label': str})"
      ],
      "metadata": {
        "id": "eaYpnF7l68HH"
      },
      "execution_count": 84,
      "outputs": []
    },
    {
      "cell_type": "markdown",
      "source": [
        "#0. Utilities"
      ],
      "metadata": {
        "id": "yw-bCefOFk-T"
      }
    },
    {
      "cell_type": "code",
      "source": [
        "def create_subcorpora(step, train_df, val_df, test_df):\n",
        "  \"\"\"Create train, test and val corpora for the specific subnet. \n",
        "  This function prepares 3 dataframes for binary classification: \n",
        "  new label 1 = the class we want to classify in this subnet. \n",
        "  new label 0 = random samples of all other classes, size equal to length of class 1.\"\"\"\n",
        "  # get sample length\n",
        "  n_train = len(train[train['label'] == step])\n",
        "  n_val = len(val[val['label'] == step])\n",
        "  n_test = len(test[test['label'] == step])\n",
        "  # create subset \n",
        "  # train: keep all instances of class 5 and 400 random other rows \n",
        "  subset_train = pd.concat([\n",
        "      train[train['label'] == step],  # keep all rows with label 5\n",
        "      train[train['label'] != step].sample(n=n_train, random_state=42)  # sample 500 rows with other labels\n",
        "  ]).dropna()\n",
        "  # val: keep all instances of class 5 and 50 random other rows \n",
        "  subset_val = pd.concat([\n",
        "      val[val['label'] == step],  # keep all rows with label 5\n",
        "      val[val['label'] != step].sample(n=n_val, random_state=42)  # sample 500 rows with other labels\n",
        "  ]).dropna()\n",
        "  # test: keep all instances of class 5 and 50 random other rows\n",
        "  subset_test = pd.concat([\n",
        "      test[test['label'] == step],  # keep all rows with label 5\n",
        "      test[test['label'] != step].sample(n=n_test, random_state=42)  # sample 500 rows with other labels\n",
        "  ]).dropna()\n",
        "\n",
        "  # create new label \n",
        "  subset_train['new_label'] = [int(1) if x == step else int(0) for x in subset_train[\"label\"]]\n",
        "  subset_val['new_label'] = [int(1) if x == step else int(0) for x in subset_val[\"label\"]]\n",
        "  subset_test['new_label'] = [int(1) if x == step else int(0) for x in subset_test[\"label\"]]\n",
        "\n",
        "  # drop unnecessary columns\n",
        "  subset_train = subset_train.drop([\"text_id\", \"label\"], axis = 1)\n",
        "  subset_val = subset_val.drop([\"text_id\", \"label\"], axis = 1)\n",
        "  subset_test = subset_test.drop([\"text_id\", \"label\"], axis = 1)\n",
        "\n",
        "  return subset_train, subset_val, subset_test"
      ],
      "metadata": {
        "id": "8hC_FFxxFnwI"
      },
      "execution_count": 85,
      "outputs": []
    },
    {
      "cell_type": "code",
      "source": [
        "# get target and sentences for a dataframe\n",
        "def get_target_sentence(df):\n",
        "  \"\"\"input: dataframe that contains sentences and labels.\n",
        "  output: labels as pandas.core.series.Series & sentences as list\"\"\"\n",
        "  labels = df.pop(\"new_label\").to_numpy()\n",
        "  sentences = df[\"sentence\"].to_list() # list\n",
        "  return sentences, labels"
      ],
      "metadata": {
        "id": "oDegrzzYspD-"
      },
      "execution_count": 99,
      "outputs": []
    },
    {
      "cell_type": "code",
      "source": [
        "# prepare function to check for overfitting\n",
        "# check for overfitting\n",
        "def plot_result(history):\n",
        "  plt.plot(history.history['accuracy'], label =\"Training accuracy\")\n",
        "  plt.plot(history.history['val_accuracy'], label =\"Validation accuracy\")\n",
        "  plt.title(\"Accuracy of baseline model on step 3g\")\n",
        "  plt.ylabel(\"Accuracy\")\n",
        "  plt.xlabel(\"Epoch\")\n",
        "  plt.legend()\n",
        "  plt.show()\n",
        "  return plt"
      ],
      "metadata": {
        "id": "z77ewoXeySQm"
      },
      "execution_count": 124,
      "outputs": []
    },
    {
      "cell_type": "code",
      "source": [
        "# classification report\n",
        "from sklearn.metrics import classification_report\n",
        "\n",
        "def evaluation_report(model, X_test, y_true):\n",
        "  \"\"\"Returns precision, recall, fq. \n",
        "  model = the model we want to evaluate; test_data = depends on the \n",
        "  classification task (e.g. test_data_3g).\"\"\"\n",
        "\n",
        "  # Make predictions on the test data\n",
        "  y_pred = model.predict(X_test)\n",
        "  y_pred_classes = (y_pred > 0.5).astype(int)  # Convert probabilities to binary class labels\n",
        "\n",
        "  report = classification_report(y_true, y_pred_classes)\n",
        "  return report"
      ],
      "metadata": {
        "id": "FdMdDcdQySJz"
      },
      "execution_count": 134,
      "outputs": []
    },
    {
      "cell_type": "markdown",
      "source": [
        "# 1. Prepare Dataset\n",
        "\n"
      ],
      "metadata": {
        "id": "IpB7kQKaDtGO"
      }
    },
    {
      "cell_type": "markdown",
      "source": [
        "## 1.1. Create Sub-Dataset for classifying Step 3g"
      ],
      "metadata": {
        "id": "j9uf6N8YFHsw"
      }
    },
    {
      "cell_type": "code",
      "source": [
        "# new labels: 1 = step 3g, 0 = not step 3g\n",
        "train_3g, val_3g, test_3g = create_subcorpora(\"3g\", train, val, test)"
      ],
      "metadata": {
        "id": "JM7DOtmrFMIL"
      },
      "execution_count": 105,
      "outputs": []
    },
    {
      "cell_type": "code",
      "source": [
        "# get target and sentences for each sub-frame\n",
        "sentences_train, labels_train = get_target_sentence(train_3g)\n",
        "sentences_val, labels_val = get_target_sentence(val_3g)\n",
        "sentences_test, labels_test = get_target_sentence(test_3g)"
      ],
      "metadata": {
        "id": "v8oNVx9rsqa3"
      },
      "execution_count": 106,
      "outputs": []
    },
    {
      "cell_type": "markdown",
      "source": [
        "### 1.2. Bert Embedding"
      ],
      "metadata": {
        "id": "D0TflRFaug5r"
      }
    },
    {
      "cell_type": "code",
      "source": [
        "# load encoder and embedding\n",
        "from transformers import BertTokenizer, TFBertModel\n",
        "bert_tokenizer = BertTokenizer.from_pretrained('bert-base-uncased') # convert text to numerical values\n",
        "bert_embedding_model = TFBertModel.from_pretrained(\"bert-base-uncased\") # generate contextualized embeddings\n",
        "text = \"Replace me by any text you'd like.\"\n",
        "encoded_input = bert_tokenizer(text, return_tensors='tf') \n",
        "output = bert_embedding_model(encoded_input)"
      ],
      "metadata": {
        "colab": {
          "base_uri": "https://localhost:8080/"
        },
        "id": "DfOmW8wuvFCz",
        "outputId": "e598f7a9-4e52-437c-b145-5756ed19884d"
      },
      "execution_count": 107,
      "outputs": [
        {
          "output_type": "stream",
          "name": "stderr",
          "text": [
            "Some layers from the model checkpoint at bert-base-uncased were not used when initializing TFBertModel: ['mlm___cls', 'nsp___cls']\n",
            "- This IS expected if you are initializing TFBertModel from the checkpoint of a model trained on another task or with another architecture (e.g. initializing a BertForSequenceClassification model from a BertForPreTraining model).\n",
            "- This IS NOT expected if you are initializing TFBertModel from the checkpoint of a model that you expect to be exactly identical (initializing a BertForSequenceClassification model from a BertForSequenceClassification model).\n",
            "All the layers of TFBertModel were initialized from the model checkpoint at bert-base-uncased.\n",
            "If your task is similar to the task the model of the checkpoint was trained on, you can already use TFBertModel for predictions without further training.\n"
          ]
        }
      ]
    },
    {
      "cell_type": "code",
      "source": [
        "# function to encode input data\n",
        "def encode_sentences(sentences):\n",
        "  \"\"\"Take a list of sentences and return pretrained sentence embeddings\"\"\"\n",
        "  encoded_sentences = bert_tokenizer(sentences, padding=True, truncation=True, return_tensors='tf')['input_ids']\n",
        "  embedded_sentences = bert_embedding_model(encoded_sentences)[0]\n",
        "  return embedded_sentences"
      ],
      "metadata": {
        "id": "RQ1eBViSuL3K"
      },
      "execution_count": 108,
      "outputs": []
    },
    {
      "cell_type": "code",
      "source": [
        "# encode input data\n",
        "sentences_train_embedded = encode_sentences(sentences_train)\n",
        "sentences_val_embedded = encode_sentences(sentences_val)\n",
        "sentences_test_embedded = encode_sentences(sentences_test)"
      ],
      "metadata": {
        "id": "WqiIoiRMuL1J"
      },
      "execution_count": 109,
      "outputs": []
    },
    {
      "cell_type": "code",
      "source": [
        "print(sentences_train_embedded.shape)\n",
        "print(sentences_val_embedded.shape)\n",
        "print(sentences_test_embedded.shape)"
      ],
      "metadata": {
        "colab": {
          "base_uri": "https://localhost:8080/"
        },
        "id": "YJHQZI7C1S5H",
        "outputId": "b7441af4-1926-410a-e90e-b57f4ff19311"
      },
      "execution_count": 113,
      "outputs": [
        {
          "output_type": "stream",
          "name": "stdout",
          "text": [
            "(584, 143, 768)\n",
            "(186, 113, 768)\n",
            "(184, 110, 768)\n"
          ]
        }
      ]
    },
    {
      "cell_type": "markdown",
      "source": [
        "the model expects input tensors of shape (None, 143, 768) (i.e., batches of 3D tensors with 143 timesteps and 768 features)"
      ],
      "metadata": {
        "id": "X9yMLQmh17m8"
      }
    },
    {
      "cell_type": "code",
      "source": [
        "# pad all data for cnn\n",
        "from tensorflow.keras.preprocessing.sequence import pad_sequences\n",
        "\n",
        "# pad the sequences with zeros to ensure they all have the same length\n",
        "MAX_SEQ_LENGTH = 143\n",
        "sentences_train_padded = pad_sequences(sentences_train_embedded, maxlen=MAX_SEQ_LENGTH, padding='post')\n",
        "sentences_val_padded = pad_sequences(sentences_val_embedded, maxlen=MAX_SEQ_LENGTH, padding='post')\n",
        "sentences_test_padded = pad_sequences(sentences_test_embedded, maxlen=MAX_SEQ_LENGTH, padding='post')"
      ],
      "metadata": {
        "id": "l7gKW1BY1OzQ"
      },
      "execution_count": 114,
      "outputs": []
    },
    {
      "cell_type": "code",
      "source": [
        "print(sentences_train_padded.shape)\n",
        "print(sentences_val_padded.shape)\n",
        "print(sentences_test_padded.shape)"
      ],
      "metadata": {
        "colab": {
          "base_uri": "https://localhost:8080/"
        },
        "id": "HyxqIabO179P",
        "outputId": "5c0306eb-9d0d-479e-8713-0f86d1bd1933"
      },
      "execution_count": 119,
      "outputs": [
        {
          "output_type": "stream",
          "name": "stdout",
          "text": [
            "(584, 143, 768)\n",
            "(186, 143, 768)\n",
            "(184, 143, 768)\n"
          ]
        }
      ]
    },
    {
      "cell_type": "markdown",
      "source": [
        "# 2. Build Model"
      ],
      "metadata": {
        "id": "IYid3v_mxNkJ"
      }
    },
    {
      "cell_type": "code",
      "source": [
        "model_cnn_bert_embeddings = tf.keras.Sequential([\n",
        "    tf.keras.layers.Input(shape=(sentences_train_padded.shape[1], sentences_train_padded.shape[2])),\n",
        "    tf.keras.layers.Conv1D(128, 5, activation='relu'),\n",
        "    tf.keras.layers.GlobalMaxPooling1D(),\n",
        "    tf.keras.layers.Dense(10, activation='relu'),\n",
        "    tf.keras.layers.Dense(1, activation='sigmoid')\n",
        "])\n",
        "\n",
        "model_cnn_bert_embeddings.compile(optimizer='adam',\n",
        "              loss='binary_crossentropy',\n",
        "              metrics=['accuracy'])\n"
      ],
      "metadata": {
        "id": "op2nN1W-uLzE"
      },
      "execution_count": 120,
      "outputs": []
    },
    {
      "cell_type": "code",
      "source": [
        "model_cnn_bert_embeddings.summary()"
      ],
      "metadata": {
        "colab": {
          "base_uri": "https://localhost:8080/"
        },
        "id": "p19OA1Lz0vVY",
        "outputId": "c018bbf7-5c57-469d-807b-0ed472adf672"
      },
      "execution_count": 121,
      "outputs": [
        {
          "output_type": "stream",
          "name": "stdout",
          "text": [
            "Model: \"sequential_11\"\n",
            "_________________________________________________________________\n",
            " Layer (type)                Output Shape              Param #   \n",
            "=================================================================\n",
            " conv1d_11 (Conv1D)          (None, 139, 128)          491648    \n",
            "                                                                 \n",
            " global_max_pooling1d_11 (Gl  (None, 128)              0         \n",
            " obalMaxPooling1D)                                               \n",
            "                                                                 \n",
            " dense_22 (Dense)            (None, 10)                1290      \n",
            "                                                                 \n",
            " dense_23 (Dense)            (None, 1)                 11        \n",
            "                                                                 \n",
            "=================================================================\n",
            "Total params: 492,949\n",
            "Trainable params: 492,949\n",
            "Non-trainable params: 0\n",
            "_________________________________________________________________\n"
          ]
        }
      ]
    },
    {
      "cell_type": "markdown",
      "source": [
        "# 3. Train Model"
      ],
      "metadata": {
        "id": "yqtYz9OPxRvD"
      }
    },
    {
      "cell_type": "code",
      "source": [
        "history_cnn_bert_embeddings = model_cnn_bert_embeddings.fit(sentences_train_padded, labels_train, \n",
        "                                              epochs=6, \n",
        "                                              batch_size=32, \n",
        "                                              validation_data=(sentences_val_padded, labels_val))"
      ],
      "metadata": {
        "colab": {
          "base_uri": "https://localhost:8080/"
        },
        "id": "_NgTx7DK0ckI",
        "outputId": "f6f6801c-1d84-40db-9b57-dcfb14b128b6"
      },
      "execution_count": 128,
      "outputs": [
        {
          "output_type": "stream",
          "name": "stdout",
          "text": [
            "Epoch 1/6\n",
            "19/19 [==============================] - 7s 367ms/step - loss: 0.0750 - accuracy: 0.9983 - val_loss: 0.2921 - val_accuracy: 0.9032\n",
            "Epoch 2/6\n",
            "19/19 [==============================] - 9s 455ms/step - loss: 0.0287 - accuracy: 1.0000 - val_loss: 0.2612 - val_accuracy: 0.9032\n",
            "Epoch 3/6\n",
            "19/19 [==============================] - 5s 277ms/step - loss: 0.0145 - accuracy: 1.0000 - val_loss: 0.2493 - val_accuracy: 0.9140\n",
            "Epoch 4/6\n",
            "19/19 [==============================] - 4s 200ms/step - loss: 0.0093 - accuracy: 1.0000 - val_loss: 0.2446 - val_accuracy: 0.9086\n",
            "Epoch 5/6\n",
            "19/19 [==============================] - 5s 269ms/step - loss: 0.0069 - accuracy: 1.0000 - val_loss: 0.2427 - val_accuracy: 0.9032\n",
            "Epoch 6/6\n",
            "19/19 [==============================] - 3s 173ms/step - loss: 0.0053 - accuracy: 1.0000 - val_loss: 0.2382 - val_accuracy: 0.9086\n"
          ]
        }
      ]
    },
    {
      "cell_type": "code",
      "source": [
        "# check for overfitting\n",
        "plot_result(history_cnn_bert_embeddings)"
      ],
      "metadata": {
        "colab": {
          "base_uri": "https://localhost:8080/",
          "height": 313
        },
        "id": "mxiWo3g_uLwf",
        "outputId": "9a0f7fba-25c2-41f3-f52f-e3b655cd8e8e"
      },
      "execution_count": 129,
      "outputs": [
        {
          "output_type": "display_data",
          "data": {
            "text/plain": [
              "<Figure size 432x288 with 1 Axes>"
            ],
            "image/png": "[encoded data removed]"
          },
          "metadata": {
            "needs_background": "light"
          }
        },
        {
          "output_type": "execute_result",
          "data": {
            "text/plain": [
              "<module 'matplotlib.pyplot' from '/usr/local/lib/python3.9/dist-packages/matplotlib/pyplot.py'>"
            ]
          },
          "metadata": {},
          "execution_count": 129
        }
      ]
    },
    {
      "cell_type": "markdown",
      "source": [
        "# 4. Evaluate Model"
      ],
      "metadata": {
        "id": "_A_wQi0rxUwN"
      }
    },
    {
      "cell_type": "code",
      "source": [
        "# evaluate on test data: accuracy?\n",
        "loss, accuracy = model_cnn_bert_embeddings.evaluate(sentences_test_padded, labels_test)\n",
        "print('Test loss:', loss)\n",
        "print('Test accuracy:', accuracy)"
      ],
      "metadata": {
        "colab": {
          "base_uri": "https://localhost:8080/"
        },
        "id": "OBA2Yd_iuLuY",
        "outputId": "2147fcc6-9e8f-427b-c716-e3303f74402c"
      },
      "execution_count": 133,
      "outputs": [
        {
          "output_type": "stream",
          "name": "stdout",
          "text": [
            "6/6 [==============================] - 1s 152ms/step - loss: 0.2283 - accuracy: 0.9293\n",
            "Test loss: 0.22834263741970062\n",
            "Test accuracy: 0.929347813129425\n"
          ]
        }
      ]
    },
    {
      "cell_type": "code",
      "source": [
        "# precision, accuracy, f1\n",
        "print(evaluation_report(model_cnn_bert_embeddings, sentences_test_padded, labels_test))"
      ],
      "metadata": {
        "colab": {
          "base_uri": "https://localhost:8080/"
        },
        "id": "QiGmHZdr5P9N",
        "outputId": "e6b28b28-5f46-4671-aa04-5c7acf5f0d4c"
      },
      "execution_count": 136,
      "outputs": [
        {
          "output_type": "stream",
          "name": "stdout",
          "text": [
            "6/6 [==============================] - 1s 98ms/step\n",
            "              precision    recall  f1-score   support\n",
            "\n",
            "           0       0.92      0.95      0.93        92\n",
            "           1       0.94      0.91      0.93        92\n",
            "\n",
            "    accuracy                           0.93       184\n",
            "   macro avg       0.93      0.93      0.93       184\n",
            "weighted avg       0.93      0.93      0.93       184\n",
            "\n"
          ]
        }
      ]
    },
    {
      "cell_type": "code",
      "source": [
        "# classification report\n",
        "from sklearn.metrics import classification_report\n",
        "\n",
        "def evaluation_report(model, X_test, y_true):\n",
        "  \"\"\"Returns precision, recall, fq. \n",
        "  model = the model we want to evaluate; test_data = depends on the \n",
        "  classification task (e.g. test_data_3g).\"\"\"\n",
        "\n",
        "  # Make predictions on the test data\n",
        "  y_pred = model.predict(X_test)\n",
        "  y_pred_classes = (y_pred > 0.5).astype(int)  # Convert probabilities to binary class labels\n",
        "\n",
        "  report = classification_report(y_true, y_pred_classes)\n",
        "  return report"
      ],
      "metadata": {
        "id": "f8_E02pu5yW9"
      },
      "execution_count": null,
      "outputs": []
    },
    {
      "cell_type": "code",
      "source": [
        "# confusion matrix\n",
        "import matplotlib.pyplot as plt\n",
        "import numpy as np\n",
        "import seaborn as sn\n",
        "from sklearn.metrics import confusion_matrix\n",
        "\n",
        "# Make predictions on the test data\n",
        "y_pred = model_cnn_bert_embeddings.predict(sentences_test_padded)\n",
        "y_pred_classes = (y_pred > 0.5).astype(int)  # Convert probabilities to binary class labels\n",
        "\n",
        "cm = confusion_matrix(labels_test, y_pred_classes)\n",
        "\n",
        "new_label_dict = {\n",
        "    1: \"Step 3b\", \n",
        "    0: \"Other step\"\n",
        "}\n",
        "\n",
        "sn.set(font_scale=1.5)\n",
        "labels = ['Other Step', 'Step 3g']\n",
        "fontdict = {'fontsize': 20}\n",
        "ax = sn.heatmap(cm, cmap=plt.cm.Blues, vmin=20, vmax=100, annot=True, fmt='d', xticklabels=labels, yticklabels=labels, cbar_kws={'label': 'Count'}, annot_kws={\"size\": 16}) \n",
        "ax.set_xlabel('Predicted Step', fontdict=fontdict)\n",
        "ax.set_ylabel('Actual Step', fontdict=fontdict)\n",
        "ax.set_title('Confusion Matrix CNN, binary classification for step b.\\b')\n",
        "ax.tick_params(axis='both', which='major', labelsize=12)\n",
        "plt.show()"
      ],
      "metadata": {
        "colab": {
          "base_uri": "https://localhost:8080/",
          "height": 368
        },
        "id": "FhHHqM1Dxa6t",
        "outputId": "0a05ccab-06b7-4540-9981-70d783bb8df5"
      },
      "execution_count": 139,
      "outputs": [
        {
          "output_type": "stream",
          "name": "stdout",
          "text": [
            "6/6 [==============================] - 1s 99ms/step\n"
          ]
        },
        {
          "output_type": "stream",
          "name": "stderr",
          "text": [
            "/usr/local/lib/python3.9/dist-packages/IPython/core/pylabtools.py:128: UserWarning: Glyph 8 (\b) missing from current font.\n",
            "  fig.canvas.print_figure(bytes_io, **kw)\n"
          ]
        },
        {
          "output_type": "display_data",
          "data": {
            "text/plain": [
              "<Figure size 432x288 with 2 Axes>"
            ],
            "image/png": "[encoded data removed]"
          },
          "metadata": {}
        }
      ]
    }
  ]
}
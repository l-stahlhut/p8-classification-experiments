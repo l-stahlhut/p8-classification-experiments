{
  "nbformat": 4,
  "nbformat_minor": 0,
  "metadata": {
    "colab": {
      "provenance": []
    },
    "kernelspec": {
      "name": "python3",
      "display_name": "Python 3"
    },
    "language_info": {
      "name": "python"
    }
  },
  "cells": [
    {
      "cell_type": "code",
      "source": [
        "from google.colab import drive\n",
        "drive.mount('/content/drive')"
      ],
      "metadata": {
        "colab": {
          "base_uri": "https://localhost:8080/"
        },
        "id": "zODFZ3es_P9G",
        "outputId": "e642a8e5-3e7b-40d6-de3b-23a328d74b6d"
      },
      "execution_count": null,
      "outputs": [
        {
          "output_type": "stream",
          "name": "stdout",
          "text": [
            "Drive already mounted at /content/drive; to attempt to forcibly remount, call drive.mount(\"/content/drive\", force_remount=True).\n"
          ]
        }
      ]
    },
    {
      "cell_type": "code",
      "source": [
        "import os\n",
        "import pandas as pd\n",
        "import numpy as np\n",
        "import matplotlib.pyplot as plt\n",
        "\n",
        "import tensorflow as tf"
      ],
      "metadata": {
        "id": "TNkb6UZYAJAv"
      },
      "execution_count": null,
      "outputs": []
    },
    {
      "cell_type": "markdown",
      "source": [
        "## 0. Load data"
      ],
      "metadata": {
        "id": "Tk_ztemWGigx"
      }
    },
    {
      "cell_type": "code",
      "execution_count": null,
      "metadata": {
        "id": "xy_NzUxE_MPs"
      },
      "outputs": [],
      "source": [
        "# load data\n",
        "path = 'drive/My Drive/P8/data'\n",
        "train = pd.read_csv(os.path.join(path, \"train_I1.csv\"), encoding='utf8', dtype={'text_id': int, 'sentence': str, 'label': int})\n",
        "val = pd.read_csv(os.path.join(path, \"val_I1.csv\"), encoding='utf8', dtype={'text_id': int, 'sentence': str, 'label': int})\n",
        "test = pd.read_csv(os.path.join(path, \"test_I1.csv\"), encoding='utf8', dtype={'text_id': int, 'sentence': str, 'label': int})"
      ]
    },
    {
      "cell_type": "markdown",
      "source": [
        "## 1. Basic data exploration"
      ],
      "metadata": {
        "id": "y259meG7IFiq"
      }
    },
    {
      "cell_type": "code",
      "source": [
        "print(train.shape)\n",
        "print(val.shape)\n",
        "print(test.shape)"
      ],
      "metadata": {
        "colab": {
          "base_uri": "https://localhost:8080/"
        },
        "id": "Pom2UiZGH7J9",
        "outputId": "6c9f64a5-7378-4368-8871-981aa6189348"
      },
      "execution_count": null,
      "outputs": [
        {
          "output_type": "stream",
          "name": "stdout",
          "text": [
            "(1380, 3)\n",
            "(172, 3)\n",
            "(173, 3)\n"
          ]
        }
      ]
    },
    {
      "cell_type": "code",
      "source": [
        "print(train.head())"
      ],
      "metadata": {
        "colab": {
          "base_uri": "https://localhost:8080/"
        },
        "id": "ii-Bev1kH_7D",
        "outputId": "b2c7ce21-5afd-4630-dd10-9fba4f92f9e7"
      },
      "execution_count": null,
      "outputs": [
        {
          "output_type": "stream",
          "name": "stdout",
          "text": [
            "   text_id                                           sentence  label\n",
            "0       89  schliesslich Kapitel . aufzeigen hinsichtlich ...      5\n",
            "1       26  zusammengefasst Arbeit Entwicklungsarbeit Ziel...      7\n",
            "2       19  Masterarbeit möchten kritisch Thema Frau Mädch...      7\n",
            "3       70   Ergebnis Diskussionsteil erklären interpretieren      5\n",
            "4       52  Sekundarlehrperson interessieren erster Linie ...      0\n"
          ]
        }
      ]
    },
    {
      "cell_type": "code",
      "source": [
        "fig, ax = plt.subplots()\n",
        "print(train['label'].value_counts().plot(ax=ax, kind='bar'))\n",
        "print(val['label'].value_counts().plot(ax=ax, kind='bar'))\n",
        "print(test['label'].value_counts().plot(ax=ax, kind='bar'))"
      ],
      "metadata": {
        "colab": {
          "base_uri": "https://localhost:8080/",
          "height": 319
        },
        "id": "gs9xcslEIZr9",
        "outputId": "b73da0ee-3750-4009-8609-b92aedbdbc6b"
      },
      "execution_count": null,
      "outputs": [
        {
          "output_type": "stream",
          "name": "stdout",
          "text": [
            "AxesSubplot(0.125,0.125;0.775x0.755)\n",
            "AxesSubplot(0.125,0.125;0.775x0.755)\n",
            "AxesSubplot(0.125,0.125;0.775x0.755)\n"
          ]
        },
        {
          "output_type": "display_data",
          "data": {
            "text/plain": [
              "<Figure size 432x288 with 1 Axes>"
            ],
            "image/png": "[encoded data removed]"
          },
          "metadata": {
            "needs_background": "light"
          }
        }
      ]
    },
    {
      "cell_type": "markdown",
      "source": [
        "It is a problem that we have so many classes that we barely have data for...\n",
        "Option 1: Further undersample data\n",
        "Option 2: Build mulitple models for binary classification, starting with class 5 vs. the rest..."
      ],
      "metadata": {
        "id": "hTJ_a5T6Jy1K"
      }
    },
    {
      "cell_type": "code",
      "source": [
        "# count occurances\n",
        "train['label'].value_counts() # class 5: 398"
      ],
      "metadata": {
        "colab": {
          "base_uri": "https://localhost:8080/"
        },
        "id": "GMK68yA6MeFo",
        "outputId": "f892928f-f914-441c-d78e-29fd53f7a15e"
      },
      "execution_count": null,
      "outputs": [
        {
          "output_type": "execute_result",
          "data": {
            "text/plain": [
              "0     401\n",
              "5     398\n",
              "6     146\n",
              "1     133\n",
              "7      83\n",
              "10     52\n",
              "2      48\n",
              "8      38\n",
              "3      31\n",
              "9      30\n",
              "4      20\n",
              "Name: label, dtype: int64"
            ]
          },
          "metadata": {},
          "execution_count": 31
        }
      ]
    },
    {
      "cell_type": "code",
      "source": [
        "val['label'].value_counts() # class 5: 52"
      ],
      "metadata": {
        "colab": {
          "base_uri": "https://localhost:8080/"
        },
        "id": "OuKoEGv7Me1i",
        "outputId": "58293cd3-1dd9-4ef3-ed47-d107aaed225a"
      },
      "execution_count": null,
      "outputs": [
        {
          "output_type": "execute_result",
          "data": {
            "text/plain": [
              "5     52\n",
              "0     47\n",
              "1     21\n",
              "6     16\n",
              "7     10\n",
              "10     7\n",
              "8      6\n",
              "2      5\n",
              "9      4\n",
              "3      3\n",
              "4      1\n",
              "Name: label, dtype: int64"
            ]
          },
          "metadata": {},
          "execution_count": 32
        }
      ]
    },
    {
      "cell_type": "code",
      "source": [
        "test['label'].value_counts() # class 5: 41"
      ],
      "metadata": {
        "colab": {
          "base_uri": "https://localhost:8080/"
        },
        "id": "EMyqzyFJMfoQ",
        "outputId": "c4f77244-509f-45d3-9160-17d124b90917"
      },
      "execution_count": null,
      "outputs": [
        {
          "output_type": "execute_result",
          "data": {
            "text/plain": [
              "0     52\n",
              "5     41\n",
              "6     22\n",
              "1     20\n",
              "10    10\n",
              "3      8\n",
              "7      8\n",
              "2      7\n",
              "8      3\n",
              "4      1\n",
              "9      1\n",
              "Name: label, dtype: int64"
            ]
          },
          "metadata": {},
          "execution_count": 33
        }
      ]
    },
    {
      "cell_type": "markdown",
      "source": [
        "## Classification: first attempts"
      ],
      "metadata": {
        "id": "Q39tqcZwJJyQ"
      }
    },
    {
      "cell_type": "markdown",
      "source": [
        "New idea: Multiple subnets\n",
        "\n",
        "If we want to keep the classes even and maximize the dataset for each class, we can frame this task as a binary classification task for each class which then later can be combined for a final decision. \n",
        "E.g. sentence 1 will be loaded into 11 seperate networks that classify it into \n",
        "- cls 1 or other\n",
        "- cls 2 or other\n",
        "- cls 3 or other\n",
        "- ...\n",
        "- cls 11 or other. \n",
        "\n",
        "At the end, the scores can be compared and the sentence will be sorted into the class with the highest percentage score. This might be an advantageous approach if we consider that we can then also incorporate different kinds of preprocessing for each subnet.\n",
        "\n",
        "I will start with classifying one of the network and sorting data into classes 5 or other. \n",
        "Btw. class 5 is step 2c (Forschungslücke). \n",
        "\n"
      ],
      "metadata": {
        "id": "dSYEiCkDJN5n"
      }
    },
    {
      "cell_type": "markdown",
      "source": [
        "### Subnet A: Class 5 or other"
      ],
      "metadata": {
        "id": "u9pJdTkBMD0K"
      }
    },
    {
      "cell_type": "markdown",
      "source": [
        "A1. Preprocessing for binary classification\n"
      ],
      "metadata": {
        "id": "H7ciC607PZ8k"
      }
    },
    {
      "cell_type": "code",
      "source": [
        "# sample data: \n",
        "# train: keep all instances of class 5 and 400 random other rows \n",
        "subset_train5 = pd.concat([\n",
        "    train[train['label'] == 5],  # keep all rows with label 5\n",
        "    train[train['label'] != 5].sample(n=400, random_state=42)  # sample 500 rows with other labels\n",
        "]).dropna()\n",
        "# val: keep all instances of class 5 and 50 random other rows \n",
        "subset_val5 = pd.concat([\n",
        "    val[val['label'] == 5],  # keep all rows with label 5\n",
        "    val[val['label'] != 5].sample(n=50, random_state=42)  # sample 500 rows with other labels\n",
        "]).dropna()\n",
        "# test: keep all instances of class 5 and 50 random other rows\n",
        "subset_test5 = pd.concat([\n",
        "    test[test['label'] == 5],  # keep all rows with label 5\n",
        "    test[test['label'] != 5].sample(n=50, random_state=42)  # sample 500 rows with other labels\n",
        "]).dropna()"
      ],
      "metadata": {
        "id": "YaoUGBjaMDUc"
      },
      "execution_count": null,
      "outputs": []
    },
    {
      "cell_type": "code",
      "source": [
        "# new labels: 1 if class 5, 0 if any other class\n",
        "subset_train5['new_label'] = [int(1) if x == 5 else int(0) for x in subset_train5[\"label\"]]\n",
        "subset_val5['new_label'] = [int(1) if x == 5 else int(0) for x in subset_val5[\"label\"]]\n",
        "subset_test5['new_label'] = [int(1) if x == 5 else int(0) for x in subset_test5[\"label\"]]"
      ],
      "metadata": {
        "id": "uMpKYLyFOFSq"
      },
      "execution_count": null,
      "outputs": []
    },
    {
      "cell_type": "code",
      "source": [
        "# drop unnecessary columns\n",
        "subset_train5 = subset_train5.drop([\"text_id\", \"label\"], axis = 1)\n",
        "subset_val5 = subset_val5.drop([\"text_id\", \"label\"], axis = 1)\n",
        "subset_test5 = subset_test5.drop([\"text_id\", \"label\"], axis = 1)"
      ],
      "metadata": {
        "id": "hc5W5YZDRPWH"
      },
      "execution_count": null,
      "outputs": []
    },
    {
      "cell_type": "code",
      "source": [
        "fig, ax = plt.subplots()\n",
        "subset_train5['new_label'].value_counts().plot(ax=ax, kind='bar')\n",
        "#subset_val['new_label'].value_counts().plot(ax=ax, kind='bar')\n",
        "#subset_test['new_label'].value_counts().plot(ax=ax, kind='bar')"
      ],
      "metadata": {
        "colab": {
          "base_uri": "https://localhost:8080/",
          "height": 279
        },
        "id": "H5VF454OJCjE",
        "outputId": "c06bae99-6706-4b87-c05b-3741a2eff545"
      },
      "execution_count": null,
      "outputs": [
        {
          "output_type": "execute_result",
          "data": {
            "text/plain": [
              "<AxesSubplot:>"
            ]
          },
          "metadata": {},
          "execution_count": 37
        },
        {
          "output_type": "display_data",
          "data": {
            "text/plain": [
              "<Figure size 432x288 with 1 Axes>"
            ],
            "image/png": "[encoded data removed]"
          },
          "metadata": {
            "needs_background": "light"
          }
        }
      ]
    },
    {
      "cell_type": "code",
      "source": [
        "len(subset_train5), len(subset_val5), len(subset_test5)"
      ],
      "metadata": {
        "colab": {
          "base_uri": "https://localhost:8080/"
        },
        "id": "V9fOrcPFRxmg",
        "outputId": "6e2c66f7-8cfe-486d-cc14-8a8282d1e4f8"
      },
      "execution_count": null,
      "outputs": [
        {
          "output_type": "execute_result",
          "data": {
            "text/plain": [
              "(798, 101, 91)"
            ]
          },
          "metadata": {},
          "execution_count": 38
        }
      ]
    },
    {
      "cell_type": "code",
      "source": [
        "subset_test5.head()"
      ],
      "metadata": {
        "colab": {
          "base_uri": "https://localhost:8080/",
          "height": 204
        },
        "id": "hfSM0302e7AO",
        "outputId": "53ca3155-1017-4029-8d3a-2a815e16fe3e"
      },
      "execution_count": null,
      "outputs": [
        {
          "output_type": "execute_result",
          "data": {
            "text/plain": [
              "                                            sentence  new_label\n",
              "0  theoretisch Teil Arbeit finden Abstützung Beru...          1\n",
              "2  Arbeit bestehen fünf Hauptteil theoretisch Tei...          1\n",
              "3  zweiter Kapitel gehen nah Betrachtung Motivbeg...          1\n",
              "6  dabei zeigen einleitend Professionalisierung L...          1\n",
              "7  zuerst Abhängigkeitsverhältnis DDR Sowjetunion...          1"
            ],
            "text/html": [
              "\n",
              "  <div id=\"df-9716f8f7-8085-45f0-8cb8-e92c34865c77\">\n",
              "    <div class=\"colab-df-container\">\n",
              "      <div>\n",
              "<style scoped>\n",
              "    .dataframe tbody tr th:only-of-type {\n",
              "        vertical-align: middle;\n",
              "    }\n",
              "\n",
              "    .dataframe tbody tr th {\n",
              "        vertical-align: top;\n",
              "    }\n",
              "\n",
              "    .dataframe thead th {\n",
              "        text-align: right;\n",
              "    }\n",
              "</style>\n",
              "<table border=\"1\" class=\"dataframe\">\n",
              "  <thead>\n",
              "    <tr style=\"text-align: right;\">\n",
              "      <th></th>\n",
              "      <th>sentence</th>\n",
              "      <th>new_label</th>\n",
              "    </tr>\n",
              "  </thead>\n",
              "  <tbody>\n",
              "    <tr>\n",
              "      <th>0</th>\n",
              "      <td>theoretisch Teil Arbeit finden Abstützung Beru...</td>\n",
              "      <td>1</td>\n",
              "    </tr>\n",
              "    <tr>\n",
              "      <th>2</th>\n",
              "      <td>Arbeit bestehen fünf Hauptteil theoretisch Tei...</td>\n",
              "      <td>1</td>\n",
              "    </tr>\n",
              "    <tr>\n",
              "      <th>3</th>\n",
              "      <td>zweiter Kapitel gehen nah Betrachtung Motivbeg...</td>\n",
              "      <td>1</td>\n",
              "    </tr>\n",
              "    <tr>\n",
              "      <th>6</th>\n",
              "      <td>dabei zeigen einleitend Professionalisierung L...</td>\n",
              "      <td>1</td>\n",
              "    </tr>\n",
              "    <tr>\n",
              "      <th>7</th>\n",
              "      <td>zuerst Abhängigkeitsverhältnis DDR Sowjetunion...</td>\n",
              "      <td>1</td>\n",
              "    </tr>\n",
              "  </tbody>\n",
              "</table>\n",
              "</div>\n",
              "      <button class=\"colab-df-convert\" onclick=\"convertToInteractive('df-9716f8f7-8085-45f0-8cb8-e92c34865c77')\"\n",
              "              title=\"Convert this dataframe to an interactive table.\"\n",
              "              style=\"display:none;\">\n",
              "        \n",
              "  <svg xmlns=\"http://www.w3.org/2000/svg\" height=\"24px\"viewBox=\"0 0 24 24\"\n",
              "       width=\"24px\">\n",
              "    <path d=\"M0 0h24v24H0V0z\" fill=\"none\"/>\n",
              "    <path d=\"M18.56 5.44l.94 2.06.94-2.06 2.06-.94-2.06-.94-.94-2.06-.94 2.06-2.06.94zm-11 1L8.5 8.5l.94-2.06 2.06-.94-2.06-.94L8.5 2.5l-.94 2.06-2.06.94zm10 10l.94 2.06.94-2.06 2.06-.94-2.06-.94-.94-2.06-.94 2.06-2.06.94z\"/><path d=\"M17.41 7.96l-1.37-1.37c-.4-.4-.92-.59-1.43-.59-.52 0-1.04.2-1.43.59L10.3 9.45l-7.72 7.72c-.78.78-.78 2.05 0 2.83L4 21.41c.39.39.9.59 1.41.59.51 0 1.02-.2 1.41-.59l7.78-7.78 2.81-2.81c.8-.78.8-2.07 0-2.86zM5.41 20L4 18.59l7.72-7.72 1.47 1.35L5.41 20z\"/>\n",
              "  </svg>\n",
              "      </button>\n",
              "      \n",
              "  <style>\n",
              "    .colab-df-container {\n",
              "      display:flex;\n",
              "      flex-wrap:wrap;\n",
              "      gap: 12px;\n",
              "    }\n",
              "\n",
              "    .colab-df-convert {\n",
              "      background-color: #E8F0FE;\n",
              "      border: none;\n",
              "      border-radius: 50%;\n",
              "      cursor: pointer;\n",
              "      display: none;\n",
              "      fill: #1967D2;\n",
              "      height: 32px;\n",
              "      padding: 0 0 0 0;\n",
              "      width: 32px;\n",
              "    }\n",
              "\n",
              "    .colab-df-convert:hover {\n",
              "      background-color: #E2EBFA;\n",
              "      box-shadow: 0px 1px 2px rgba(60, 64, 67, 0.3), 0px 1px 3px 1px rgba(60, 64, 67, 0.15);\n",
              "      fill: #174EA6;\n",
              "    }\n",
              "\n",
              "    [theme=dark] .colab-df-convert {\n",
              "      background-color: #3B4455;\n",
              "      fill: #D2E3FC;\n",
              "    }\n",
              "\n",
              "    [theme=dark] .colab-df-convert:hover {\n",
              "      background-color: #434B5C;\n",
              "      box-shadow: 0px 1px 3px 1px rgba(0, 0, 0, 0.15);\n",
              "      filter: drop-shadow(0px 1px 2px rgba(0, 0, 0, 0.3));\n",
              "      fill: #FFFFFF;\n",
              "    }\n",
              "  </style>\n",
              "\n",
              "      <script>\n",
              "        const buttonEl =\n",
              "          document.querySelector('#df-9716f8f7-8085-45f0-8cb8-e92c34865c77 button.colab-df-convert');\n",
              "        buttonEl.style.display =\n",
              "          google.colab.kernel.accessAllowed ? 'block' : 'none';\n",
              "\n",
              "        async function convertToInteractive(key) {\n",
              "          const element = document.querySelector('#df-9716f8f7-8085-45f0-8cb8-e92c34865c77');\n",
              "          const dataTable =\n",
              "            await google.colab.kernel.invokeFunction('convertToInteractive',\n",
              "                                                     [key], {});\n",
              "          if (!dataTable) return;\n",
              "\n",
              "          const docLinkHtml = 'Like what you see? Visit the ' +\n",
              "            '<a target=\"_blank\" href=https://colab.research.google.com/notebooks/data_table.ipynb>data table notebook</a>'\n",
              "            + ' to learn more about interactive tables.';\n",
              "          element.innerHTML = '';\n",
              "          dataTable['output_type'] = 'display_data';\n",
              "          await google.colab.output.renderOutput(dataTable, element);\n",
              "          const docLink = document.createElement('div');\n",
              "          docLink.innerHTML = docLinkHtml;\n",
              "          element.appendChild(docLink);\n",
              "        }\n",
              "      </script>\n",
              "    </div>\n",
              "  </div>\n",
              "  "
            ]
          },
          "metadata": {},
          "execution_count": 39
        }
      ]
    },
    {
      "cell_type": "markdown",
      "source": [
        "A2. Convert Dataframe -> Dataset"
      ],
      "metadata": {
        "id": "9YcnsAlsPVi-"
      }
    },
    {
      "cell_type": "code",
      "source": [
        "# A utility method to create a tf.data dataset from a Pandas Dataframe\n",
        "def df_to_dataset(dataframe, shuffle=True, batch_size=32):\n",
        "  dataframe = dataframe.copy()\n",
        "  labels = dataframe.pop('new_label')\n",
        "  dataframe = dataframe[\"sentence\"]\n",
        "  #dataframe = dataframe.apply(lambda x: str(x))\n",
        "  ds = tf.data.Dataset.from_tensor_slices((dataframe, labels))\n",
        "  if shuffle:\n",
        "    ds = ds.shuffle(buffer_size=len(dataframe))\n",
        "  ds = ds.batch(batch_size)\n",
        "  return ds"
      ],
      "metadata": {
        "id": "zT629-FMy7YG"
      },
      "execution_count": null,
      "outputs": []
    },
    {
      "cell_type": "code",
      "source": [
        "train_data = df_to_dataset(subset_train5)\n",
        "val_data = df_to_dataset(subset_val5)\n",
        "test_data = df_to_dataset(subset_test5)"
      ],
      "metadata": {
        "id": "iAv96wcDy7Vg"
      },
      "execution_count": null,
      "outputs": []
    },
    {
      "cell_type": "code",
      "source": [
        "# todo: encoding of umlaute is weird -> check if this is something i need to fix https://www.tensorflow.org/text/guide/unicode\n",
        "#list(train_data)[0]"
      ],
      "metadata": {
        "id": "qUXHUC8a0yjY"
      },
      "execution_count": null,
      "outputs": []
    },
    {
      "cell_type": "code",
      "source": [
        "#s = b\"l\\xc3\\xb6sungsorientiert Konfliktbew\\xc3\\xa4ltigung erm\\xc3\\xb6glichen\"\n",
        "#decoded = s.decode('utf-8')\n",
        "#print(decoded)"
      ],
      "metadata": {
        "id": "EkorbMTOy7Ql"
      },
      "execution_count": null,
      "outputs": []
    },
    {
      "cell_type": "markdown",
      "source": [
        "A3. Embedding\n",
        "https://tfhub.dev/google/nnlm-de-dim50/2"
      ],
      "metadata": {
        "id": "tx6pQLZ52I1B"
      }
    },
    {
      "cell_type": "code",
      "source": [
        "import tensorflow_hub as hub"
      ],
      "metadata": {
        "id": "Jk-MwKcW2K0g"
      },
      "execution_count": null,
      "outputs": []
    },
    {
      "cell_type": "code",
      "source": [
        "hub_layer = hub.KerasLayer(\"https://tfhub.dev/google/nnlm-de-dim50/2\",\n",
        "                           dtype=tf.string, trainable=True)"
      ],
      "metadata": {
        "id": "Cw05yoEG2K5H"
      },
      "execution_count": null,
      "outputs": []
    },
    {
      "cell_type": "code",
      "source": [
        "hub_layer(list(train_data)[0][0])"
      ],
      "metadata": {
        "colab": {
          "base_uri": "https://localhost:8080/"
        },
        "id": "CArFVG8k3ZLS",
        "outputId": "65c3fe44-8124-414c-b4de-7ccc203a0b3a"
      },
      "execution_count": null,
      "outputs": [
        {
          "output_type": "execute_result",
          "data": {
            "text/plain": [
              "<tf.Tensor: shape=(32, 50), dtype=float32, numpy=\n",
              "array([[-0.11161539, -0.12223903,  0.01683075, ..., -0.07183117,\n",
              "        -0.05232792, -0.3709021 ],\n",
              "       [-0.02411753,  0.13084924,  0.03698444, ...,  0.08933611,\n",
              "        -0.2168662 , -0.00181213],\n",
              "       [-0.21515311, -0.10575402, -0.00482263, ...,  0.2648246 ,\n",
              "        -0.25975978, -0.05776104],\n",
              "       ...,\n",
              "       [-0.1243261 ,  0.24802072,  0.2065657 , ...,  0.08813307,\n",
              "        -0.1929972 , -0.1274959 ],\n",
              "       [ 0.07297941,  0.12316076,  0.01661296, ...,  0.13328347,\n",
              "        -0.17124565, -0.19803578],\n",
              "       [ 0.05112859,  0.10568976,  0.10050578, ..., -0.0415312 ,\n",
              "        -0.29700994, -0.10652219]], dtype=float32)>"
            ]
          },
          "metadata": {},
          "execution_count": 46
        }
      ]
    },
    {
      "cell_type": "markdown",
      "source": [
        "A4: classification"
      ],
      "metadata": {
        "id": "7JvRr1iCiZ7Q"
      }
    },
    {
      "cell_type": "code",
      "source": [
        "model = tf.keras.Sequential()\n",
        "model.add(hub_layer) # embedding\n",
        "model.add(tf.keras.layers.Dense(16, activation='relu'))\n",
        "model.add(tf.keras.layers.Dropout(0.4))\n",
        "model.add(tf.keras.layers.Dense(16, activation='relu'))\n",
        "model.add(tf.keras.layers.Dropout(0.4))\n",
        "model.add(tf.keras.layers.Dense(1, activation='sigmoid'))"
      ],
      "metadata": {
        "id": "PX9DNkqCpjVo"
      },
      "execution_count": null,
      "outputs": []
    },
    {
      "cell_type": "code",
      "source": [
        "model.compile(optimizer=tf.keras.optimizers.Adam(learning_rate=0.001), \n",
        "              loss=tf.keras.losses.BinaryCrossentropy(),\n",
        "              metrics=['accuracy'])"
      ],
      "metadata": {
        "id": "27FCjqvT58iw"
      },
      "execution_count": null,
      "outputs": []
    },
    {
      "cell_type": "markdown",
      "source": [
        "binary crossentropy & accuracy because we're doing binary classificaiton"
      ],
      "metadata": {
        "id": "fF_Tqhnb6Tnt"
      }
    },
    {
      "cell_type": "code",
      "source": [
        "# evaluate untrained model on training data\n",
        "model.evaluate(train_data)"
      ],
      "metadata": {
        "colab": {
          "base_uri": "https://localhost:8080/"
        },
        "id": "N141Lvzr6LaW",
        "outputId": "622696a6-a5ef-4463-81b9-545ed739bfc5"
      },
      "execution_count": null,
      "outputs": [
        {
          "output_type": "stream",
          "name": "stdout",
          "text": [
            "25/25 [==============================] - 5s 171ms/step - loss: 0.7298 - accuracy: 0.4010\n"
          ]
        },
        {
          "output_type": "execute_result",
          "data": {
            "text/plain": [
              "[0.7297751307487488, 0.4010024964809418]"
            ]
          },
          "metadata": {},
          "execution_count": 105
        }
      ]
    },
    {
      "cell_type": "code",
      "source": [
        "# evaluate untrained model on val data\n",
        "model.evaluate(val_data)"
      ],
      "metadata": {
        "colab": {
          "base_uri": "https://localhost:8080/"
        },
        "id": "RRZ00LwT6noY",
        "outputId": "3cc217fe-0ed9-4ab8-f034-523e393e4f2e"
      },
      "execution_count": null,
      "outputs": [
        {
          "output_type": "stream",
          "name": "stdout",
          "text": [
            "4/4 [==============================] - 1s 171ms/step - loss: 0.7093 - accuracy: 0.4752\n"
          ]
        },
        {
          "output_type": "execute_result",
          "data": {
            "text/plain": [
              "[0.7093133926391602, 0.4752475321292877]"
            ]
          },
          "metadata": {},
          "execution_count": 106
        }
      ]
    },
    {
      "cell_type": "code",
      "source": [
        "history = model.fit(train_data, epochs = 6, validation_data=val_data)"
      ],
      "metadata": {
        "colab": {
          "base_uri": "https://localhost:8080/"
        },
        "id": "w-MeFOVu6uQZ",
        "outputId": "6c7d023c-e059-4de9-bbea-dffb72573555"
      },
      "execution_count": null,
      "outputs": [
        {
          "output_type": "stream",
          "name": "stdout",
          "text": [
            "Epoch 1/6\n",
            "25/25 [==============================] - 34s 1s/step - loss: 0.6113 - accuracy: 0.6842 - val_loss: 0.5920 - val_accuracy: 0.7822\n",
            "Epoch 2/6\n",
            "25/25 [==============================] - 37s 1s/step - loss: 0.5359 - accuracy: 0.7732 - val_loss: 0.5161 - val_accuracy: 0.8317\n",
            "Epoch 3/6\n",
            "25/25 [==============================] - 34s 1s/step - loss: 0.4234 - accuracy: 0.8747 - val_loss: 0.4375 - val_accuracy: 0.8416\n",
            "Epoch 4/6\n",
            "25/25 [==============================] - 34s 1s/step - loss: 0.3437 - accuracy: 0.9123 - val_loss: 0.3756 - val_accuracy: 0.8713\n",
            "Epoch 5/6\n",
            "25/25 [==============================] - 35s 1s/step - loss: 0.2503 - accuracy: 0.9574 - val_loss: 0.3356 - val_accuracy: 0.8614\n",
            "Epoch 6/6\n",
            "25/25 [==============================] - 37s 1s/step - loss: 0.2038 - accuracy: 0.9624 - val_loss: 0.3157 - val_accuracy: 0.8713\n"
          ]
        }
      ]
    },
    {
      "cell_type": "code",
      "source": [
        "# check for overfitting\n",
        "plt.plot(history.history['loss'], label =\"Training loss\")\n",
        "plt.plot(history.history['val_loss'], label =\"Validation loss\")\n",
        "plt.title(\"Accuracy of model\")\n",
        "plt.ylabel(\"Accuracy\")\n",
        "plt.xlabel(\"Epoch\")\n",
        "plt.legend()\n",
        "plt.show()"
      ],
      "metadata": {
        "colab": {
          "base_uri": "https://localhost:8080/",
          "height": 295
        },
        "id": "PvqWVVNS64W-",
        "outputId": "41aab380-2a22-410a-dc49-7e1fa5c296e2"
      },
      "execution_count": null,
      "outputs": [
        {
          "output_type": "display_data",
          "data": {
            "text/plain": [
              "<Figure size 432x288 with 1 Axes>"
            ],
            "image/png": "[encoded data removed]"
          },
          "metadata": {
            "needs_background": "light"
          }
        }
      ]
    },
    {
      "cell_type": "code",
      "source": [
        "model.evaluate(test_data)"
      ],
      "metadata": {
        "colab": {
          "base_uri": "https://localhost:8080/"
        },
        "id": "9OIc1MDi9CvA",
        "outputId": "82d51ddb-56f2-4dad-d1d2-c8f16b33fd96"
      },
      "execution_count": null,
      "outputs": [
        {
          "output_type": "stream",
          "name": "stdout",
          "text": [
            "3/3 [==============================] - 1s 397ms/step - loss: 0.3698 - accuracy: 0.8352\n"
          ]
        },
        {
          "output_type": "execute_result",
          "data": {
            "text/plain": [
              "[0.36976808309555054, 0.8351648449897766]"
            ]
          },
          "metadata": {},
          "execution_count": 112
        }
      ]
    },
    {
      "cell_type": "code",
      "source": [],
      "metadata": {
        "id": "Hp0-QW3R-5dR"
      },
      "execution_count": null,
      "outputs": []
    },
    {
      "cell_type": "markdown",
      "source": [
        "# LSTM"
      ],
      "metadata": {
        "id": "sbWWCz1V_ISv"
      }
    },
    {
      "cell_type": "code",
      "source": [
        "encoder = tf.keras.layers.TextVectorization(max_tokens=2000)\n",
        "encoder.adapt(train_data.map(lambda text, label: text))"
      ],
      "metadata": {
        "id": "PQ0Mxr_X_ICl"
      },
      "execution_count": null,
      "outputs": []
    },
    {
      "cell_type": "code",
      "source": [
        "vocab = np.array(encoder.get_vocabulary())\n",
        "vocab[:20]"
      ],
      "metadata": {
        "colab": {
          "base_uri": "https://localhost:8080/"
        },
        "id": "uy_Opv_t_H8U",
        "outputId": "ee8b60db-5c5e-4053-86fc-96aa6cabe640"
      },
      "execution_count": null,
      "outputs": [
        {
          "output_type": "execute_result",
          "data": {
            "text/plain": [
              "array(['', '[UNK]', 'kapitel', 'arbeit', 'teil', 'theoretisch',\n",
              "       'ergebnis', 'fragestellung', 'schüler', 'lehrperson', 'erster',\n",
              "       'schülerin', 'folgen', 'sowie', 'untersuchung', 'schule',\n",
              "       'begriff', 'vorstellen', 'zwei', 'verschieden'], dtype='<U28')"
            ]
          },
          "metadata": {},
          "execution_count": 114
        }
      ]
    },
    {
      "cell_type": "code",
      "source": [
        "model = tf.keras.Sequential([\n",
        "    encoder, \n",
        "    tf.keras.layers.Embedding(\n",
        "        input_dim=len(encoder.get_vocabulary()),\n",
        "        output_dim=32,\n",
        "        mask_zero=True\n",
        "    ), \n",
        "    tf.keras.layers.LSTM(32), \n",
        "    tf.keras.layers.Dense(32, activation='relu'), \n",
        "    tf.keras.layers.Dropout(0.4),\n",
        "    tf.keras.layers.Dense(1, activation='sigmoid')\n",
        "])"
      ],
      "metadata": {
        "id": "wuAUjGN4_iDN"
      },
      "execution_count": null,
      "outputs": []
    },
    {
      "cell_type": "code",
      "source": [
        "model.compile(optimizer=tf.keras.optimizers.Adam(learning_rate=0.001), \n",
        "              loss=tf.keras.losses.BinaryCrossentropy(),\n",
        "              metrics=['accuracy'])"
      ],
      "metadata": {
        "id": "CkNNWGtVAJNn"
      },
      "execution_count": null,
      "outputs": []
    },
    {
      "cell_type": "code",
      "source": [
        "# evaluate untrained model on training data\n",
        "model.evaluate(train_data)"
      ],
      "metadata": {
        "colab": {
          "base_uri": "https://localhost:8080/"
        },
        "id": "d3Q2TO26AdOt",
        "outputId": "8beba8b1-be4a-4613-cce3-2dead3d11273"
      },
      "execution_count": null,
      "outputs": [
        {
          "output_type": "stream",
          "name": "stdout",
          "text": [
            "25/25 [==============================] - 9s 6ms/step - loss: 0.6933 - accuracy: 0.4925\n"
          ]
        },
        {
          "output_type": "execute_result",
          "data": {
            "text/plain": [
              "[0.6932609677314758, 0.49248120188713074]"
            ]
          },
          "metadata": {},
          "execution_count": 121
        }
      ]
    },
    {
      "cell_type": "code",
      "source": [
        "# evaluate untrained model on training data\n",
        "model.evaluate(val_data)"
      ],
      "metadata": {
        "colab": {
          "base_uri": "https://localhost:8080/"
        },
        "id": "yJ6d0nzZAhtY",
        "outputId": "5d21b426-2c74-4c40-c3c2-ba3f376a6534"
      },
      "execution_count": null,
      "outputs": [
        {
          "output_type": "stream",
          "name": "stdout",
          "text": [
            "4/4 [==============================] - 0s 12ms/step - loss: 0.6932 - accuracy: 0.5149\n"
          ]
        },
        {
          "output_type": "execute_result",
          "data": {
            "text/plain": [
              "[0.6932076215744019, 0.5148515105247498]"
            ]
          },
          "metadata": {},
          "execution_count": 122
        }
      ]
    },
    {
      "cell_type": "code",
      "source": [
        "history = model.fit(train_data, epochs = 6, validation_data=val_data)"
      ],
      "metadata": {
        "colab": {
          "base_uri": "https://localhost:8080/"
        },
        "id": "Yo_na46mAmO8",
        "outputId": "f10dd842-922e-4c0b-aae1-2924934a85aa"
      },
      "execution_count": null,
      "outputs": [
        {
          "output_type": "stream",
          "name": "stdout",
          "text": [
            "Epoch 1/6\n",
            "25/25 [==============================] - 8s 21ms/step - loss: 0.6884 - accuracy: 0.5915 - val_loss: 0.6769 - val_accuracy: 0.7624\n",
            "Epoch 2/6\n",
            "25/25 [==============================] - 1s 26ms/step - loss: 0.6142 - accuracy: 0.8521 - val_loss: 0.4972 - val_accuracy: 0.8416\n",
            "Epoch 3/6\n",
            "25/25 [==============================] - 1s 38ms/step - loss: 0.3140 - accuracy: 0.9348 - val_loss: 0.3974 - val_accuracy: 0.8614\n",
            "Epoch 4/6\n",
            "25/25 [==============================] - 1s 37ms/step - loss: 0.1635 - accuracy: 0.9687 - val_loss: 0.4154 - val_accuracy: 0.9010\n",
            "Epoch 5/6\n",
            "25/25 [==============================] - 1s 35ms/step - loss: 0.1040 - accuracy: 0.9825 - val_loss: 0.4395 - val_accuracy: 0.8911\n",
            "Epoch 6/6\n",
            "25/25 [==============================] - 1s 39ms/step - loss: 0.0919 - accuracy: 0.9875 - val_loss: 0.4706 - val_accuracy: 0.9208\n"
          ]
        }
      ]
    },
    {
      "cell_type": "code",
      "source": [
        "# check for overfitting\n",
        "plt.plot(history.history['accuracy'], label =\"Training accuracy\")\n",
        "plt.plot(history.history['val_accuracy'], label =\"Validation accuracy\")\n",
        "plt.title(\"Accuracy of model\")\n",
        "plt.ylabel(\"Accuracy\")\n",
        "plt.xlabel(\"Epoch\")\n",
        "plt.legend()\n",
        "plt.show()"
      ],
      "metadata": {
        "colab": {
          "base_uri": "https://localhost:8080/",
          "height": 295
        },
        "id": "eGPxW8c9Ar7x",
        "outputId": "e6f1420d-0aaa-42ec-dba6-408e79443c53"
      },
      "execution_count": null,
      "outputs": [
        {
          "output_type": "display_data",
          "data": {
            "text/plain": [
              "<Figure size 432x288 with 1 Axes>"
            ],
            "image/png": "[encoded data removed]"
          },
          "metadata": {
            "needs_background": "light"
          }
        }
      ]
    },
    {
      "cell_type": "code",
      "source": [
        "model.evaluate(test_data)"
      ],
      "metadata": {
        "id": "LmLcaRHiBMtH",
        "outputId": "434cbb63-45b5-435b-9479-ce2474bbd8f2",
        "colab": {
          "base_uri": "https://localhost:8080/"
        }
      },
      "execution_count": null,
      "outputs": [
        {
          "output_type": "stream",
          "name": "stdout",
          "text": [
            "3/3 [==============================] - 0s 13ms/step - loss: 0.4585 - accuracy: 0.8901\n"
          ]
        },
        {
          "output_type": "execute_result",
          "data": {
            "text/plain": [
              "[0.45851361751556396, 0.8901098966598511]"
            ]
          },
          "metadata": {},
          "execution_count": 126
        }
      ]
    },
    {
      "cell_type": "markdown",
      "source": [
        "# CNN"
      ],
      "metadata": {
        "id": "k-VMtQANAshV"
      }
    },
    {
      "cell_type": "markdown",
      "source": [
        "TODO - An Anna: das musst du noch nicht anschauen."
      ],
      "metadata": {
        "id": "IRr7r_LAIw1-"
      }
    }
  ]
}
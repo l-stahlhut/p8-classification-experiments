{
  "nbformat": 4,
  "nbformat_minor": 0,
  "metadata": {
    "colab": {
      "provenance": [],
      "toc_visible": true
    },
    "kernelspec": {
      "name": "python3",
      "display_name": "Python 3"
    },
    "language_info": {
      "name": "python"
    }
  },
  "cells": [
    {
      "cell_type": "markdown",
      "source": [
        "# CNN Experiments for classifying step 3g"
      ],
      "metadata": {
        "id": "_HiMveiLEmOs"
      }
    },
    {
      "cell_type": "code",
      "execution_count": null,
      "metadata": {
        "colab": {
          "base_uri": "https://localhost:8080/"
        },
        "id": "AaLffXEpk5jh",
        "outputId": "d9b7db2d-dd23-491d-b7f4-5f5fd1cf471a"
      },
      "outputs": [
        {
          "output_type": "stream",
          "name": "stdout",
          "text": [
            "Drive already mounted at /content/drive; to attempt to forcibly remount, call drive.mount(\"/content/drive\", force_remount=True).\n"
          ]
        }
      ],
      "source": [
        "from google.colab import drive\n",
        "drive.mount('/content/drive')"
      ]
    },
    {
      "cell_type": "code",
      "source": [
        "import os\n",
        "import pandas as pd\n",
        "import numpy as np\n",
        "import matplotlib.pyplot as plt\n",
        "import seaborn as sn\n",
        "from sklearn.metrics import confusion_matrix\n",
        "\n",
        "import tensorflow as tf\n",
        "from tensorflow.keras.preprocessing.sequence import pad_sequences\n",
        "import tensorflow_hub as hub\n",
        "#import tensorflow_text as text"
      ],
      "metadata": {
        "id": "-vael-Y2k9Vv"
      },
      "execution_count": null,
      "outputs": []
    },
    {
      "cell_type": "code",
      "source": [
        "! pip install datasets transformers"
      ],
      "metadata": {
        "colab": {
          "base_uri": "https://localhost:8080/"
        },
        "id": "YN5pl4xaP2qt",
        "outputId": "7310b876-3024-462f-bb90-54d0274b80f1"
      },
      "execution_count": null,
      "outputs": [
        {
          "output_type": "stream",
          "name": "stdout",
          "text": [
            "Looking in indexes: https://pypi.org/simple, https://us-python.pkg.dev/colab-wheels/public/simple/\n",
            "Requirement already satisfied: datasets in /usr/local/lib/python3.9/dist-packages (2.10.1)\n",
            "Requirement already satisfied: transformers in /usr/local/lib/python3.9/dist-packages (4.27.1)\n",
            "Requirement already satisfied: xxhash in /usr/local/lib/python3.9/dist-packages (from datasets) (3.2.0)\n",
            "Requirement already satisfied: pandas in /usr/local/lib/python3.9/dist-packages (from datasets) (1.4.4)\n",
            "Requirement already satisfied: numpy>=1.17 in /usr/local/lib/python3.9/dist-packages (from datasets) (1.22.4)\n",
            "Requirement already satisfied: multiprocess in /usr/local/lib/python3.9/dist-packages (from datasets) (0.70.14)\n",
            "Requirement already satisfied: responses<0.19 in /usr/local/lib/python3.9/dist-packages (from datasets) (0.18.0)\n",
            "Requirement already satisfied: pyarrow>=6.0.0 in /usr/local/lib/python3.9/dist-packages (from datasets) (9.0.0)\n",
            "Requirement already satisfied: huggingface-hub<1.0.0,>=0.2.0 in /usr/local/lib/python3.9/dist-packages (from datasets) (0.13.2)\n",
            "Requirement already satisfied: packaging in /usr/local/lib/python3.9/dist-packages (from datasets) (23.0)\n",
            "Requirement already satisfied: aiohttp in /usr/local/lib/python3.9/dist-packages (from datasets) (3.8.4)\n",
            "Requirement already satisfied: fsspec[http]>=2021.11.1 in /usr/local/lib/python3.9/dist-packages (from datasets) (2023.3.0)\n",
            "Requirement already satisfied: tqdm>=4.62.1 in /usr/local/lib/python3.9/dist-packages (from datasets) (4.65.0)\n",
            "Requirement already satisfied: requests>=2.19.0 in /usr/local/lib/python3.9/dist-packages (from datasets) (2.27.1)\n",
            "Requirement already satisfied: pyyaml>=5.1 in /usr/local/lib/python3.9/dist-packages (from datasets) (6.0)\n",
            "Requirement already satisfied: dill<0.3.7,>=0.3.0 in /usr/local/lib/python3.9/dist-packages (from datasets) (0.3.6)\n",
            "Requirement already satisfied: filelock in /usr/local/lib/python3.9/dist-packages (from transformers) (3.10.0)\n",
            "Requirement already satisfied: regex!=2019.12.17 in /usr/local/lib/python3.9/dist-packages (from transformers) (2022.10.31)\n",
            "Requirement already satisfied: tokenizers!=0.11.3,<0.14,>=0.11.1 in /usr/local/lib/python3.9/dist-packages (from transformers) (0.13.2)\n",
            "Requirement already satisfied: charset-normalizer<4.0,>=2.0 in /usr/local/lib/python3.9/dist-packages (from aiohttp->datasets) (2.0.12)\n",
            "Requirement already satisfied: attrs>=17.3.0 in /usr/local/lib/python3.9/dist-packages (from aiohttp->datasets) (22.2.0)\n",
            "Requirement already satisfied: aiosignal>=1.1.2 in /usr/local/lib/python3.9/dist-packages (from aiohttp->datasets) (1.3.1)\n",
            "Requirement already satisfied: yarl<2.0,>=1.0 in /usr/local/lib/python3.9/dist-packages (from aiohttp->datasets) (1.8.2)\n",
            "Requirement already satisfied: multidict<7.0,>=4.5 in /usr/local/lib/python3.9/dist-packages (from aiohttp->datasets) (6.0.4)\n",
            "Requirement already satisfied: frozenlist>=1.1.1 in /usr/local/lib/python3.9/dist-packages (from aiohttp->datasets) (1.3.3)\n",
            "Requirement already satisfied: async-timeout<5.0,>=4.0.0a3 in /usr/local/lib/python3.9/dist-packages (from aiohttp->datasets) (4.0.2)\n",
            "Requirement already satisfied: typing-extensions>=3.7.4.3 in /usr/local/lib/python3.9/dist-packages (from huggingface-hub<1.0.0,>=0.2.0->datasets) (4.5.0)\n",
            "Requirement already satisfied: urllib3<1.27,>=1.21.1 in /usr/local/lib/python3.9/dist-packages (from requests>=2.19.0->datasets) (1.26.15)\n",
            "Requirement already satisfied: certifi>=2017.4.17 in /usr/local/lib/python3.9/dist-packages (from requests>=2.19.0->datasets) (2022.12.7)\n",
            "Requirement already satisfied: idna<4,>=2.5 in /usr/local/lib/python3.9/dist-packages (from requests>=2.19.0->datasets) (3.4)\n",
            "Requirement already satisfied: python-dateutil>=2.8.1 in /usr/local/lib/python3.9/dist-packages (from pandas->datasets) (2.8.2)\n",
            "Requirement already satisfied: pytz>=2020.1 in /usr/local/lib/python3.9/dist-packages (from pandas->datasets) (2022.7.1)\n",
            "Requirement already satisfied: six>=1.5 in /usr/local/lib/python3.9/dist-packages (from python-dateutil>=2.8.1->pandas->datasets) (1.15.0)\n"
          ]
        }
      ]
    },
    {
      "cell_type": "code",
      "source": [
        "import transformers\n",
        "print(transformers.__version__)"
      ],
      "metadata": {
        "colab": {
          "base_uri": "https://localhost:8080/"
        },
        "id": "Z3N1fGKEPvLq",
        "outputId": "b9e6feed-23f7-4b3f-cf0c-20e4cf971854"
      },
      "execution_count": null,
      "outputs": [
        {
          "output_type": "stream",
          "name": "stdout",
          "text": [
            "4.27.1\n"
          ]
        }
      ]
    },
    {
      "cell_type": "code",
      "source": [
        "pip install -U sentence-transformers"
      ],
      "metadata": {
        "colab": {
          "base_uri": "https://localhost:8080/"
        },
        "id": "iOdZRX9lKLWs",
        "outputId": "ec0dc5ca-1ac0-47db-f11a-a87743eb9668"
      },
      "execution_count": null,
      "outputs": [
        {
          "output_type": "stream",
          "name": "stdout",
          "text": [
            "Looking in indexes: https://pypi.org/simple, https://us-python.pkg.dev/colab-wheels/public/simple/\n",
            "Requirement already satisfied: sentence-transformers in /usr/local/lib/python3.9/dist-packages (2.2.2)\n",
            "Requirement already satisfied: tqdm in /usr/local/lib/python3.9/dist-packages (from sentence-transformers) (4.65.0)\n",
            "Requirement already satisfied: transformers<5.0.0,>=4.6.0 in /usr/local/lib/python3.9/dist-packages (from sentence-transformers) (4.27.1)\n",
            "Requirement already satisfied: sentencepiece in /usr/local/lib/python3.9/dist-packages (from sentence-transformers) (0.1.97)\n",
            "Requirement already satisfied: scikit-learn in /usr/local/lib/python3.9/dist-packages (from sentence-transformers) (1.2.2)\n",
            "Requirement already satisfied: huggingface-hub>=0.4.0 in /usr/local/lib/python3.9/dist-packages (from sentence-transformers) (0.13.2)\n",
            "Requirement already satisfied: scipy in /usr/local/lib/python3.9/dist-packages (from sentence-transformers) (1.10.1)\n",
            "Requirement already satisfied: numpy in /usr/local/lib/python3.9/dist-packages (from sentence-transformers) (1.22.4)\n",
            "Requirement already satisfied: nltk in /usr/local/lib/python3.9/dist-packages (from sentence-transformers) (3.8.1)\n",
            "Requirement already satisfied: torchvision in /usr/local/lib/python3.9/dist-packages (from sentence-transformers) (0.14.1+cu116)\n",
            "Requirement already satisfied: torch>=1.6.0 in /usr/local/lib/python3.9/dist-packages (from sentence-transformers) (1.13.1+cu116)\n",
            "Requirement already satisfied: pyyaml>=5.1 in /usr/local/lib/python3.9/dist-packages (from huggingface-hub>=0.4.0->sentence-transformers) (6.0)\n",
            "Requirement already satisfied: typing-extensions>=3.7.4.3 in /usr/local/lib/python3.9/dist-packages (from huggingface-hub>=0.4.0->sentence-transformers) (4.5.0)\n",
            "Requirement already satisfied: filelock in /usr/local/lib/python3.9/dist-packages (from huggingface-hub>=0.4.0->sentence-transformers) (3.10.0)\n",
            "Requirement already satisfied: packaging>=20.9 in /usr/local/lib/python3.9/dist-packages (from huggingface-hub>=0.4.0->sentence-transformers) (23.0)\n",
            "Requirement already satisfied: requests in /usr/local/lib/python3.9/dist-packages (from huggingface-hub>=0.4.0->sentence-transformers) (2.27.1)\n",
            "Requirement already satisfied: regex!=2019.12.17 in /usr/local/lib/python3.9/dist-packages (from transformers<5.0.0,>=4.6.0->sentence-transformers) (2022.10.31)\n",
            "Requirement already satisfied: tokenizers!=0.11.3,<0.14,>=0.11.1 in /usr/local/lib/python3.9/dist-packages (from transformers<5.0.0,>=4.6.0->sentence-transformers) (0.13.2)\n",
            "Requirement already satisfied: click in /usr/local/lib/python3.9/dist-packages (from nltk->sentence-transformers) (8.1.3)\n",
            "Requirement already satisfied: joblib in /usr/local/lib/python3.9/dist-packages (from nltk->sentence-transformers) (1.1.1)\n",
            "Requirement already satisfied: threadpoolctl>=2.0.0 in /usr/local/lib/python3.9/dist-packages (from scikit-learn->sentence-transformers) (3.1.0)\n",
            "Requirement already satisfied: pillow!=8.3.*,>=5.3.0 in /usr/local/lib/python3.9/dist-packages (from torchvision->sentence-transformers) (8.4.0)\n",
            "Requirement already satisfied: urllib3<1.27,>=1.21.1 in /usr/local/lib/python3.9/dist-packages (from requests->huggingface-hub>=0.4.0->sentence-transformers) (1.26.15)\n",
            "Requirement already satisfied: certifi>=2017.4.17 in /usr/local/lib/python3.9/dist-packages (from requests->huggingface-hub>=0.4.0->sentence-transformers) (2022.12.7)\n",
            "Requirement already satisfied: idna<4,>=2.5 in /usr/local/lib/python3.9/dist-packages (from requests->huggingface-hub>=0.4.0->sentence-transformers) (3.4)\n",
            "Requirement already satisfied: charset-normalizer~=2.0.0 in /usr/local/lib/python3.9/dist-packages (from requests->huggingface-hub>=0.4.0->sentence-transformers) (2.0.12)\n"
          ]
        }
      ]
    },
    {
      "cell_type": "markdown",
      "source": [
        "#0. Utilities"
      ],
      "metadata": {
        "id": "yw-bCefOFk-T"
      }
    },
    {
      "cell_type": "markdown",
      "source": [
        "## Code to prepare dataset"
      ],
      "metadata": {
        "id": "CvxdgkR45aVB"
      }
    },
    {
      "cell_type": "code",
      "source": [
        "# get target and sentences for a dataframe\n",
        "def get_target_sentence(df):\n",
        "  \"\"\"input: dataframe that contains sentences and labels.\n",
        "  output: labels as pandas.core.series.Series & sentences as list\"\"\"\n",
        "  labels = df.pop(\"new_label\").to_numpy()\n",
        "  sentences = df[\"sentence\"].to_list() # list\n",
        "  return sentences, labels"
      ],
      "metadata": {
        "id": "oDegrzzYspD-"
      },
      "execution_count": null,
      "outputs": []
    },
    {
      "cell_type": "code",
      "source": [
        "# prepare function to check for overfitting\n",
        "# check for overfitting\n",
        "def plot_result(history):\n",
        "  plt.plot(history.history['accuracy'], label =\"Training accuracy\")\n",
        "  plt.plot(history.history['val_accuracy'], label =\"Validation accuracy\")\n",
        "  plt.title(\"Accuracy of baseline model on step 3g\")\n",
        "  plt.ylabel(\"Accuracy\")\n",
        "  plt.xlabel(\"Epoch\")\n",
        "  plt.legend()\n",
        "  plt.show()\n",
        "  return plt"
      ],
      "metadata": {
        "id": "z77ewoXeySQm"
      },
      "execution_count": null,
      "outputs": []
    },
    {
      "cell_type": "markdown",
      "source": [
        "## Code to evaluate model"
      ],
      "metadata": {
        "id": "nzV0BGzK5yQU"
      }
    },
    {
      "cell_type": "code",
      "source": [
        "# classification report\n",
        "from sklearn.metrics import classification_report\n",
        "\n",
        "def evaluation_report(model, X_test, y_true):\n",
        "  \"\"\"Returns precision, recall, fq. \n",
        "  model = the model we want to evaluate; test_data = depends on the \n",
        "  classification task (e.g. test_data_3g).\"\"\"\n",
        "\n",
        "  # Make predictions on the test data\n",
        "  y_pred = model.predict(X_test)\n",
        "  y_pred_classes = (y_pred > 0.5).astype(int)  # Convert probabilities to binary class labels\n",
        "\n",
        "  report = classification_report(y_true, y_pred_classes)\n",
        "  return report"
      ],
      "metadata": {
        "id": "FdMdDcdQySJz"
      },
      "execution_count": null,
      "outputs": []
    },
    {
      "cell_type": "markdown",
      "source": [
        "# 1. Load & Prepare Dataset (3g/not 3g)\n",
        "\n"
      ],
      "metadata": {
        "id": "IpB7kQKaDtGO"
      }
    },
    {
      "cell_type": "markdown",
      "source": [
        "## Load data\n",
        "\n",
        "I saved a sub-dataset for each step that contains the sentences tagged with the step (class 1) and a random subset of other sentences (class 0) of the same size. Beforehand, I undersampled the set of untagged sentences to the size of sentences of step 3 such that they won't be too overrepresented when chosing a subset of other sentences.\n"
      ],
      "metadata": {
        "id": "j9uf6N8YFHsw"
      }
    },
    {
      "cell_type": "code",
      "source": [
        "# load data (always use the same dataset)\n",
        "path = 'drive/My Drive/P8/data/sub_datasets'\n",
        "train_I1_3g = pd.read_csv(os.path.join(path, \"train_I1_3g.csv\"), encoding='utf8', dtype={'text_id': str, 'sentence': str, 'label': str}, index_col=False)\n",
        "val_I1_3g = pd.read_csv(os.path.join(path, \"val_I1_3g.csv\"), encoding='utf8', dtype={'text_id': str, 'sentence': str, 'label': str}, index_col=False)\n",
        "test_I1_3g = pd.read_csv(os.path.join(path, \"test_I1_3g.csv\"), encoding='utf8', dtype={'text_id': str, 'sentence': str, 'label': str}, index_col=False)"
      ],
      "metadata": {
        "id": "c2crclhPp8E1"
      },
      "execution_count": null,
      "outputs": []
    },
    {
      "cell_type": "code",
      "source": [
        "train_I1_3g.head(3)"
      ],
      "metadata": {
        "colab": {
          "base_uri": "https://localhost:8080/",
          "height": 142
        },
        "id": "WAo4gyTXqIVf",
        "outputId": "a5b6a5ab-e64e-4628-db06-024ee8cf1d1f"
      },
      "execution_count": null,
      "outputs": [
        {
          "output_type": "execute_result",
          "data": {
            "text/plain": [
              "                                            sentence  new_label\n",
              "0  anschliessend folgen zweiter theoretisch Teil ...          1\n",
              "1                  danach Forschungsdesign erläutern          1\n",
              "2   Art Entstehung Codesystem Methodenteil ausführen          1"
            ],
            "text/html": [
              "\n",
              "  <div id=\"df-32eaae49-0998-4712-8f4f-7b4dc09877de\">\n",
              "    <div class=\"colab-df-container\">\n",
              "      <div>\n",
              "<style scoped>\n",
              "    .dataframe tbody tr th:only-of-type {\n",
              "        vertical-align: middle;\n",
              "    }\n",
              "\n",
              "    .dataframe tbody tr th {\n",
              "        vertical-align: top;\n",
              "    }\n",
              "\n",
              "    .dataframe thead th {\n",
              "        text-align: right;\n",
              "    }\n",
              "</style>\n",
              "<table border=\"1\" class=\"dataframe\">\n",
              "  <thead>\n",
              "    <tr style=\"text-align: right;\">\n",
              "      <th></th>\n",
              "      <th>sentence</th>\n",
              "      <th>new_label</th>\n",
              "    </tr>\n",
              "  </thead>\n",
              "  <tbody>\n",
              "    <tr>\n",
              "      <th>0</th>\n",
              "      <td>anschliessend folgen zweiter theoretisch Teil ...</td>\n",
              "      <td>1</td>\n",
              "    </tr>\n",
              "    <tr>\n",
              "      <th>1</th>\n",
              "      <td>danach Forschungsdesign erläutern</td>\n",
              "      <td>1</td>\n",
              "    </tr>\n",
              "    <tr>\n",
              "      <th>2</th>\n",
              "      <td>Art Entstehung Codesystem Methodenteil ausführen</td>\n",
              "      <td>1</td>\n",
              "    </tr>\n",
              "  </tbody>\n",
              "</table>\n",
              "</div>\n",
              "      <button class=\"colab-df-convert\" onclick=\"convertToInteractive('df-32eaae49-0998-4712-8f4f-7b4dc09877de')\"\n",
              "              title=\"Convert this dataframe to an interactive table.\"\n",
              "              style=\"display:none;\">\n",
              "        \n",
              "  <svg xmlns=\"http://www.w3.org/2000/svg\" height=\"24px\"viewBox=\"0 0 24 24\"\n",
              "       width=\"24px\">\n",
              "    <path d=\"M0 0h24v24H0V0z\" fill=\"none\"/>\n",
              "    <path d=\"M18.56 5.44l.94 2.06.94-2.06 2.06-.94-2.06-.94-.94-2.06-.94 2.06-2.06.94zm-11 1L8.5 8.5l.94-2.06 2.06-.94-2.06-.94L8.5 2.5l-.94 2.06-2.06.94zm10 10l.94 2.06.94-2.06 2.06-.94-2.06-.94-.94-2.06-.94 2.06-2.06.94z\"/><path d=\"M17.41 7.96l-1.37-1.37c-.4-.4-.92-.59-1.43-.59-.52 0-1.04.2-1.43.59L10.3 9.45l-7.72 7.72c-.78.78-.78 2.05 0 2.83L4 21.41c.39.39.9.59 1.41.59.51 0 1.02-.2 1.41-.59l7.78-7.78 2.81-2.81c.8-.78.8-2.07 0-2.86zM5.41 20L4 18.59l7.72-7.72 1.47 1.35L5.41 20z\"/>\n",
              "  </svg>\n",
              "      </button>\n",
              "      \n",
              "  <style>\n",
              "    .colab-df-container {\n",
              "      display:flex;\n",
              "      flex-wrap:wrap;\n",
              "      gap: 12px;\n",
              "    }\n",
              "\n",
              "    .colab-df-convert {\n",
              "      background-color: #E8F0FE;\n",
              "      border: none;\n",
              "      border-radius: 50%;\n",
              "      cursor: pointer;\n",
              "      display: none;\n",
              "      fill: #1967D2;\n",
              "      height: 32px;\n",
              "      padding: 0 0 0 0;\n",
              "      width: 32px;\n",
              "    }\n",
              "\n",
              "    .colab-df-convert:hover {\n",
              "      background-color: #E2EBFA;\n",
              "      box-shadow: 0px 1px 2px rgba(60, 64, 67, 0.3), 0px 1px 3px 1px rgba(60, 64, 67, 0.15);\n",
              "      fill: #174EA6;\n",
              "    }\n",
              "\n",
              "    [theme=dark] .colab-df-convert {\n",
              "      background-color: #3B4455;\n",
              "      fill: #D2E3FC;\n",
              "    }\n",
              "\n",
              "    [theme=dark] .colab-df-convert:hover {\n",
              "      background-color: #434B5C;\n",
              "      box-shadow: 0px 1px 3px 1px rgba(0, 0, 0, 0.15);\n",
              "      filter: drop-shadow(0px 1px 2px rgba(0, 0, 0, 0.3));\n",
              "      fill: #FFFFFF;\n",
              "    }\n",
              "  </style>\n",
              "\n",
              "      <script>\n",
              "        const buttonEl =\n",
              "          document.querySelector('#df-32eaae49-0998-4712-8f4f-7b4dc09877de button.colab-df-convert');\n",
              "        buttonEl.style.display =\n",
              "          google.colab.kernel.accessAllowed ? 'block' : 'none';\n",
              "\n",
              "        async function convertToInteractive(key) {\n",
              "          const element = document.querySelector('#df-32eaae49-0998-4712-8f4f-7b4dc09877de');\n",
              "          const dataTable =\n",
              "            await google.colab.kernel.invokeFunction('convertToInteractive',\n",
              "                                                     [key], {});\n",
              "          if (!dataTable) return;\n",
              "\n",
              "          const docLinkHtml = 'Like what you see? Visit the ' +\n",
              "            '<a target=\"_blank\" href=https://colab.research.google.com/notebooks/data_table.ipynb>data table notebook</a>'\n",
              "            + ' to learn more about interactive tables.';\n",
              "          element.innerHTML = '';\n",
              "          dataTable['output_type'] = 'display_data';\n",
              "          await google.colab.output.renderOutput(dataTable, element);\n",
              "          const docLink = document.createElement('div');\n",
              "          docLink.innerHTML = docLinkHtml;\n",
              "          element.appendChild(docLink);\n",
              "        }\n",
              "      </script>\n",
              "    </div>\n",
              "  </div>\n",
              "  "
            ]
          },
          "metadata": {},
          "execution_count": 10
        }
      ]
    },
    {
      "cell_type": "code",
      "source": [
        "train_I1_3g.shape"
      ],
      "metadata": {
        "colab": {
          "base_uri": "https://localhost:8080/"
        },
        "id": "476y_QNIkQdf",
        "outputId": "fa1f8a68-b23f-4eeb-aeb3-1eac186f2127"
      },
      "execution_count": null,
      "outputs": [
        {
          "output_type": "execute_result",
          "data": {
            "text/plain": [
              "(584, 2)"
            ]
          },
          "metadata": {},
          "execution_count": 11
        }
      ]
    },
    {
      "cell_type": "markdown",
      "source": [
        "## Prepare data for embedding\n",
        "\n",
        "sentences: List of strings --> have to be embedded\n",
        "labels: numpy array -> already good to use in model"
      ],
      "metadata": {
        "id": "rQV3bXya6QM-"
      }
    },
    {
      "cell_type": "code",
      "source": [
        "# get target and sentences for each sub-frame\n",
        "sentences_train, labels_train = get_target_sentence(train_I1_3g)  # list of strings; numpy array with 0 and 1\n",
        "sentences_val, labels_val = get_target_sentence(val_I1_3g)\n",
        "sentences_test, labels_test = get_target_sentence(test_I1_3g)"
      ],
      "metadata": {
        "id": "v8oNVx9rsqa3"
      },
      "execution_count": null,
      "outputs": []
    },
    {
      "cell_type": "markdown",
      "source": [
        "# Experiments"
      ],
      "metadata": {
        "id": "D0TflRFaug5r"
      }
    },
    {
      "cell_type": "markdown",
      "source": [
        "## 1.2.2 CNN with deepset/gbert-large Embedding"
      ],
      "metadata": {
        "id": "Q7zvH3Ga2A63"
      }
    },
    {
      "cell_type": "markdown",
      "source": [
        "### Encoding"
      ],
      "metadata": {
        "id": "qH-Km6GG6DP5"
      }
    },
    {
      "cell_type": "code",
      "source": [
        "# Load the necessary libraries\n",
        "from transformers import AutoTokenizer, TFAutoModel\n",
        "\n",
        "# Load the pre-trained model and tokenizer\n",
        "model_name2 = \"deepset/gbert-large\"\n",
        "tokenizer2 = AutoTokenizer.from_pretrained(model_name2)\n",
        "model2 = TFAutoModel.from_pretrained(model_name2)"
      ],
      "metadata": {
        "colab": {
          "base_uri": "https://localhost:8080/"
        },
        "id": "QMu55N7fmrcJ",
        "outputId": "85105a4f-7cc8-476e-9e01-24efb91ec18b"
      },
      "execution_count": null,
      "outputs": [
        {
          "output_type": "stream",
          "name": "stderr",
          "text": [
            "Some layers from the model checkpoint at deepset/gbert-large were not used when initializing TFBertModel: ['mlm___cls', 'nsp___cls']\n",
            "- This IS expected if you are initializing TFBertModel from the checkpoint of a model trained on another task or with another architecture (e.g. initializing a BertForSequenceClassification model from a BertForPreTraining model).\n",
            "- This IS NOT expected if you are initializing TFBertModel from the checkpoint of a model that you expect to be exactly identical (initializing a BertForSequenceClassification model from a BertForSequenceClassification model).\n",
            "All the layers of TFBertModel were initialized from the model checkpoint at deepset/gbert-large.\n",
            "If your task is similar to the task the model of the checkpoint was trained on, you can already use TFBertModel for predictions without further training.\n"
          ]
        }
      ]
    },
    {
      "cell_type": "code",
      "source": [
        "max_length = 50\n",
        "def tokenize_and_pad2(sentences):\n",
        "    # Tokenize the sentences using the tokenizer\n",
        "    tokenized = tokenizer2(sentences, padding=True, truncation=True, max_length=max_length, return_tensors=\"tf\")\n",
        "    # Get the model embeddings for the tokenized sentences\n",
        "    embeddings = model2(tokenized.input_ids, attention_mask=tokenized.attention_mask)[0]\n",
        "    # Return the embeddings\n",
        "    return embeddings.numpy()"
      ],
      "metadata": {
        "id": "mxiyfYXa-xvy"
      },
      "execution_count": null,
      "outputs": []
    },
    {
      "cell_type": "code",
      "source": [
        "# Tokenize and pad your training sentences\n",
        "sentences_train_embeddings2 = tokenize_and_pad2(sentences_train)\n",
        "sentences_train_padded2 = tf.keras.preprocessing.sequence.pad_sequences(sentences_train_embeddings2, maxlen=max_length, padding='post', dtype='float32')\n",
        "# Tokenize and pad your validation sentences\n",
        "sentences_val_embeddings2 = tokenize_and_pad2(sentences_val)\n",
        "sentences_val_padded2 = tf.keras.preprocessing.sequence.pad_sequences(sentences_val_embeddings2, maxlen=max_length, padding='post', dtype='float32')\n",
        "# Tokenize and pad your test sentences\n",
        "sentences_test_embeddings2 = tokenize_and_pad2(sentences_test)\n",
        "sentences_test_padded2 = tf.keras.preprocessing.sequence.pad_sequences(sentences_test_embeddings2, maxlen=max_length, padding='post', dtype='float32')"
      ],
      "metadata": {
        "id": "uGs5Gqfg-2gb"
      },
      "execution_count": null,
      "outputs": []
    },
    {
      "cell_type": "code",
      "source": [
        "print(sentences_train_padded2.shape) # No of sentences, ?, ?\n",
        "print(sentences_val_padded2.shape)\n",
        "print(sentences_test_padded2.shape)"
      ],
      "metadata": {
        "colab": {
          "base_uri": "https://localhost:8080/"
        },
        "id": "ftFvu0bjBRz2",
        "outputId": "ff8fc7bd-2d84-42a2-bfd1-4aac4c87cc69"
      },
      "execution_count": null,
      "outputs": [
        {
          "output_type": "stream",
          "name": "stdout",
          "text": [
            "(584, 50, 1024)\n",
            "(186, 50, 1024)\n",
            "(184, 50, 1024)\n"
          ]
        }
      ]
    },
    {
      "cell_type": "markdown",
      "source": [
        "### Build model"
      ],
      "metadata": {
        "id": "PDnbHxg__Uu3"
      }
    },
    {
      "cell_type": "code",
      "source": [
        "cnn2 = tf.keras.Sequential([\n",
        "    tf.keras.layers.Input(shape=(sentences_train_padded2.shape[1], sentences_train_padded2.shape[2])),\n",
        "    tf.keras.layers.Conv1D(128, 5, activation='relu'),\n",
        "    tf.keras.layers.GlobalMaxPooling1D(),\n",
        "    tf.keras.layers.Dense(10, activation='relu'),\n",
        "    tf.keras.layers.Dense(1, activation='sigmoid')\n",
        "])\n",
        "\n",
        "cnn2.compile(optimizer='adam',\n",
        "              loss='binary_crossentropy',\n",
        "              metrics=['accuracy'])"
      ],
      "metadata": {
        "id": "EaDwrjfB_F5z"
      },
      "execution_count": null,
      "outputs": []
    },
    {
      "cell_type": "markdown",
      "source": [
        "### Train model"
      ],
      "metadata": {
        "id": "nY4b-uIR6Fbb"
      }
    },
    {
      "cell_type": "code",
      "source": [
        "history_cnn2 = cnn2.fit(sentences_train_padded2, labels_train, \n",
        "                                              epochs=5, \n",
        "                                              batch_size=32, \n",
        "                                              validation_data=(sentences_val_padded2, labels_val))"
      ],
      "metadata": {
        "colab": {
          "base_uri": "https://localhost:8080/"
        },
        "id": "l89YTKktCiVL",
        "outputId": "a94e0f84-2798-4c07-c982-6aed2fbab1f5"
      },
      "execution_count": null,
      "outputs": [
        {
          "output_type": "stream",
          "name": "stdout",
          "text": [
            "Epoch 1/5\n",
            "19/19 [==============================] - 5s 184ms/step - loss: 0.5656 - accuracy: 0.7551 - val_loss: 0.3260 - val_accuracy: 0.8548\n",
            "Epoch 2/5\n",
            "19/19 [==============================] - 3s 171ms/step - loss: 0.2583 - accuracy: 0.9110 - val_loss: 0.2398 - val_accuracy: 0.8925\n",
            "Epoch 3/5\n",
            "19/19 [==============================] - 2s 108ms/step - loss: 0.1518 - accuracy: 0.9606 - val_loss: 0.2268 - val_accuracy: 0.9032\n",
            "Epoch 4/5\n",
            "19/19 [==============================] - 2s 106ms/step - loss: 0.1003 - accuracy: 0.9692 - val_loss: 0.2224 - val_accuracy: 0.8978\n",
            "Epoch 5/5\n",
            "19/19 [==============================] - 2s 107ms/step - loss: 0.0514 - accuracy: 0.9932 - val_loss: 0.2400 - val_accuracy: 0.8925\n"
          ]
        }
      ]
    },
    {
      "cell_type": "code",
      "source": [
        "# check for overfitting\n",
        "plot_result(history_cnn2)"
      ],
      "metadata": {
        "id": "8DlaJSxD6wkO",
        "colab": {
          "base_uri": "https://localhost:8080/",
          "height": 312
        },
        "outputId": "a72b6c54-803a-466e-cfaa-c06f7b37601b"
      },
      "execution_count": null,
      "outputs": [
        {
          "output_type": "display_data",
          "data": {
            "text/plain": [
              "<Figure size 432x288 with 1 Axes>"
            ],
            "image/png": "[encoded data removed]"
          },
          "metadata": {
            "needs_background": "light"
          }
        },
        {
          "output_type": "execute_result",
          "data": {
            "text/plain": [
              "<module 'matplotlib.pyplot' from '/usr/local/lib/python3.9/dist-packages/matplotlib/pyplot.py'>"
            ]
          },
          "metadata": {},
          "execution_count": 128
        }
      ]
    },
    {
      "cell_type": "markdown",
      "source": [
        "### Evaluate trained model"
      ],
      "metadata": {
        "id": "MwbkHEFH_apb"
      }
    },
    {
      "cell_type": "code",
      "source": [
        "# evaluate on test data:\n",
        "loss, accuracy = cnn2.evaluate(sentences_test_padded2, labels_test)\n",
        "print('Test loss:', loss)\n",
        "print('Test accuracy:', accuracy)\n",
        "print(\"\\n\\n\")\n",
        "\n",
        "# precision, accuracy, f1\n",
        "print(evaluation_report(cnn2, sentences_test_padded2, labels_test))\n",
        "print(\"\\n\\n\")\n"
      ],
      "metadata": {
        "id": "Fw8KCGtN_fMv",
        "colab": {
          "base_uri": "https://localhost:8080/"
        },
        "outputId": "da09f211-bb71-49b9-a8ea-ea18a3b6e679"
      },
      "execution_count": null,
      "outputs": [
        {
          "output_type": "stream",
          "name": "stdout",
          "text": [
            "6/6 [==============================] - 0s 35ms/step - loss: 0.2518 - accuracy: 0.9022\n",
            "Test loss: 0.25181305408477783\n",
            "Test accuracy: 0.9021739363670349\n",
            "\n",
            "\n",
            "\n",
            "6/6 [==============================] - 0s 34ms/step\n",
            "              precision    recall  f1-score   support\n",
            "\n",
            "           0       0.92      0.88      0.90        92\n",
            "           1       0.89      0.92      0.90        92\n",
            "\n",
            "    accuracy                           0.90       184\n",
            "   macro avg       0.90      0.90      0.90       184\n",
            "weighted avg       0.90      0.90      0.90       184\n",
            "\n",
            "\n",
            "\n",
            "\n"
          ]
        }
      ]
    },
    {
      "cell_type": "code",
      "source": [
        "# confusion matrix\n",
        "y_pred2 = cnn2.predict(sentences_test_padded2)\n",
        "y_pred_classes2 = (y_pred2 > 0.5).astype(int)  # Convert probabilities to binary class labels\n",
        "\n",
        "cm2 = confusion_matrix(labels_test, y_pred_classes2)\n",
        "\n",
        "new_label_dict = {\n",
        "    1: \"Step 3b\", \n",
        "    0: \"Other step\"\n",
        "}\n",
        "\n",
        "sn.set(font_scale=1.5)\n",
        "labels = ['Other Step', 'Step 3g']\n",
        "fontdict = {'fontsize': 20}\n",
        "ax = sn.heatmap(cm2, cmap=plt.cm.Blues, vmin=20, vmax=100, annot=True, fmt='d', xticklabels=labels, yticklabels=labels, cbar_kws={'label': 'Count'}, annot_kws={\"size\": 16}) \n",
        "ax.set_xlabel('Predicted Step', fontdict=fontdict)\n",
        "ax.set_ylabel('Actual Step', fontdict=fontdict)\n",
        "ax.set_title('Confusion Matrix CNN, binary classification for step b.\\b')\n",
        "ax.tick_params(axis='both', which='major', labelsize=12)\n",
        "plt.show()"
      ],
      "metadata": {
        "colab": {
          "base_uri": "https://localhost:8080/",
          "height": 365
        },
        "id": "BaasaGgSDi34",
        "outputId": "737645bf-53f9-4f6d-9215-fbbdc71ceb4d"
      },
      "execution_count": null,
      "outputs": [
        {
          "output_type": "stream",
          "name": "stdout",
          "text": [
            "6/6 [==============================] - 0s 34ms/step\n"
          ]
        },
        {
          "output_type": "stream",
          "name": "stderr",
          "text": [
            "/usr/local/lib/python3.9/dist-packages/IPython/core/pylabtools.py:128: UserWarning: Glyph 8 (\b) missing from current font.\n",
            "  fig.canvas.print_figure(bytes_io, **kw)\n"
          ]
        },
        {
          "output_type": "display_data",
          "data": {
            "text/plain": [
              "<Figure size 432x288 with 2 Axes>"
            ],
            "image/png": "[encoded data removed]"
          },
          "metadata": {}
        }
      ]
    },
    {
      "cell_type": "markdown",
      "source": [
        "## 1.2.3. CNN with Sentence Embeddings"
      ],
      "metadata": {
        "id": "eDkPJcWi27qE"
      }
    },
    {
      "cell_type": "markdown",
      "source": [
        "### Encoding"
      ],
      "metadata": {
        "id": "wvct7xgy6Hwv"
      }
    },
    {
      "cell_type": "code",
      "source": [
        "# Load the sentence transformer model\n",
        "from transformers import AutoTokenizer,  TFAutoModel\n",
        "tokenizer3 = AutoTokenizer.from_pretrained('sentence-transformers/stsb-xlm-r-multilingual')\n",
        "model3 = TFAutoModel.from_pretrained('sentence-transformers/stsb-xlm-r-multilingual')"
      ],
      "metadata": {
        "colab": {
          "base_uri": "https://localhost:8080/"
        },
        "id": "o9VABuctMiTw",
        "outputId": "cf9b5700-96f5-43e7-cebc-a1db63805ca8"
      },
      "execution_count": null,
      "outputs": [
        {
          "output_type": "stream",
          "name": "stderr",
          "text": [
            "All model checkpoint layers were used when initializing TFXLMRobertaModel.\n",
            "\n",
            "All the layers of TFXLMRobertaModel were initialized from the model checkpoint at sentence-transformers/stsb-xlm-r-multilingual.\n",
            "If your task is similar to the task the model of the checkpoint was trained on, you can already use TFXLMRobertaModel for predictions without further training.\n"
          ]
        }
      ]
    },
    {
      "cell_type": "code",
      "source": [
        "def encode_sentences3(sentences):\n",
        "    \"\"\"Take a list of sentences and return pretrained sentence embeddings\"\"\"\n",
        "    encoded_sentences = tokenizer3(sentences, padding=True, truncation=True, return_tensors='tf')['input_ids']\n",
        "    embedded_sentences = model3(encoded_sentences)[0]\n",
        "    return embedded_sentences"
      ],
      "metadata": {
        "id": "s03U5c_UUiwc"
      },
      "execution_count": null,
      "outputs": []
    },
    {
      "cell_type": "code",
      "source": [
        "# encode input data\n",
        "sentences_train_embedded3 = encode_sentences3(sentences_train)\n",
        "sentences_val_embedded3 = encode_sentences3(sentences_val)\n",
        "sentences_test_embedded3 = encode_sentences3(sentences_test)\n",
        "print(sentences_train_embedded3.shape)\n",
        "print(sentences_val_embedded3.shape)\n",
        "print(sentences_test_embedded3.shape)"
      ],
      "metadata": {
        "colab": {
          "base_uri": "https://localhost:8080/"
        },
        "id": "FDbWrlgXTAYQ",
        "outputId": "6909a61c-8a6e-43a9-9a37-6c0ae2e52888"
      },
      "execution_count": null,
      "outputs": [
        {
          "output_type": "stream",
          "name": "stdout",
          "text": [
            "(584, 90, 768)\n",
            "(186, 62, 768)\n",
            "(184, 56, 768)\n"
          ]
        }
      ]
    },
    {
      "cell_type": "code",
      "source": [
        "def pad_embedding3(input_tensor, max_seq_len):\n",
        "  # calculate the amount of padding needed\n",
        "  padding_length = max_seq_len - input_tensor.shape[1]\n",
        "  # pad the tensor with zeros\n",
        "  padded_tensor = tf.pad(input_tensor, ((0, 0), (0, padding_length), (0, 0)))\n",
        "\n",
        "  return padded_tensor"
      ],
      "metadata": {
        "id": "4dgFqvDXXLzo"
      },
      "execution_count": null,
      "outputs": []
    },
    {
      "cell_type": "code",
      "source": [
        "# pad the sequences with zeros to ensure they all have the same length\n",
        "MAX_SEQ_LENGTH = 90\n",
        "sentences_train_padded3 = pad_embedding3(sentences_train_embedded3, max_seq_len=MAX_SEQ_LENGTH)\n",
        "sentences_val_padded3 = pad_embedding3(sentences_val_embedded3, max_seq_len=MAX_SEQ_LENGTH)\n",
        "sentences_test_padded3 = pad_embedding3(sentences_test_embedded3, max_seq_len=MAX_SEQ_LENGTH)"
      ],
      "metadata": {
        "id": "4B69SrZINL35"
      },
      "execution_count": null,
      "outputs": []
    },
    {
      "cell_type": "code",
      "source": [
        "print(sentences_train_padded3.shape)\n",
        "print(sentences_val_padded3.shape)\n",
        "print(sentences_test_padded3.shape)"
      ],
      "metadata": {
        "colab": {
          "base_uri": "https://localhost:8080/"
        },
        "id": "NZQqXUa9XU4Z",
        "outputId": "3ae59198-1a47-492f-8a60-8659df6f4b58"
      },
      "execution_count": null,
      "outputs": [
        {
          "output_type": "stream",
          "name": "stdout",
          "text": [
            "(584, 90, 768)\n",
            "(186, 90, 768)\n",
            "(184, 90, 768)\n"
          ]
        }
      ]
    },
    {
      "cell_type": "markdown",
      "source": [
        "### Build model"
      ],
      "metadata": {
        "id": "V_t4mtUF_vzo"
      }
    },
    {
      "cell_type": "code",
      "source": [
        "cnn3 = tf.keras.Sequential([\n",
        "    tf.keras.layers.Input(shape=(sentences_train_padded3.shape[1], sentences_train_padded3.shape[2])),\n",
        "    tf.keras.layers.Conv1D(128, 5, activation='relu'),\n",
        "    tf.keras.layers.GlobalMaxPooling1D(),\n",
        "    tf.keras.layers.Dense(10, activation='relu'),\n",
        "    tf.keras.layers.Dense(1, activation='sigmoid')\n",
        "])\n",
        "\n",
        "cnn3.compile(optimizer='adam',\n",
        "              loss='binary_crossentropy',\n",
        "              metrics=['accuracy'])"
      ],
      "metadata": {
        "id": "eLKpxLUV_vMY"
      },
      "execution_count": null,
      "outputs": []
    },
    {
      "cell_type": "markdown",
      "source": [
        "### Train model"
      ],
      "metadata": {
        "id": "Ef3JDaYX6Sxe"
      }
    },
    {
      "cell_type": "code",
      "source": [
        "history_cnn3 = cnn3.fit(sentences_train_padded3, labels_train, \n",
        "                                              epochs=6, \n",
        "                                              batch_size=32, \n",
        "                                              validation_data=(sentences_val_padded3, labels_val))"
      ],
      "metadata": {
        "id": "QeG3VIjL2_NM",
        "colab": {
          "base_uri": "https://localhost:8080/"
        },
        "outputId": "9135d132-9bac-4f8d-d4b9-45a5cb77fd14"
      },
      "execution_count": null,
      "outputs": [
        {
          "output_type": "stream",
          "name": "stdout",
          "text": [
            "Epoch 1/6\n",
            "19/19 [==============================] - 6s 247ms/step - loss: 0.7843 - accuracy: 0.4966 - val_loss: 0.6904 - val_accuracy: 0.5000\n",
            "Epoch 2/6\n",
            "19/19 [==============================] - 7s 372ms/step - loss: 0.6868 - accuracy: 0.5000 - val_loss: 0.6897 - val_accuracy: 0.5000\n",
            "Epoch 3/6\n",
            "19/19 [==============================] - 4s 164ms/step - loss: 0.6540 - accuracy: 0.5976 - val_loss: 0.6608 - val_accuracy: 0.6667\n",
            "Epoch 4/6\n",
            "19/19 [==============================] - 3s 135ms/step - loss: 0.6098 - accuracy: 0.6969 - val_loss: 0.6393 - val_accuracy: 0.7366\n",
            "Epoch 5/6\n",
            "19/19 [==============================] - 3s 177ms/step - loss: 0.5833 - accuracy: 0.7483 - val_loss: 0.6306 - val_accuracy: 0.7581\n",
            "Epoch 6/6\n",
            "19/19 [==============================] - 6s 310ms/step - loss: 0.5358 - accuracy: 0.7962 - val_loss: 0.6087 - val_accuracy: 0.7849\n"
          ]
        }
      ]
    },
    {
      "cell_type": "code",
      "source": [
        "# check for overfitting\n",
        "plot_result(history_cnn3)"
      ],
      "metadata": {
        "id": "bQVAish96t1Q",
        "colab": {
          "base_uri": "https://localhost:8080/",
          "height": 312
        },
        "outputId": "83154cf4-1b57-4e86-ebbb-4812a1832cfc"
      },
      "execution_count": null,
      "outputs": [
        {
          "output_type": "display_data",
          "data": {
            "text/plain": [
              "<Figure size 432x288 with 1 Axes>"
            ],
            "image/png": "[encoded data removed]"
          },
          "metadata": {
            "needs_background": "light"
          }
        },
        {
          "output_type": "execute_result",
          "data": {
            "text/plain": [
              "<module 'matplotlib.pyplot' from '/usr/local/lib/python3.9/dist-packages/matplotlib/pyplot.py'>"
            ]
          },
          "metadata": {},
          "execution_count": 25
        }
      ]
    },
    {
      "cell_type": "markdown",
      "source": [
        "### Evaluate trained model"
      ],
      "metadata": {
        "id": "trKF2xPo_mRQ"
      }
    },
    {
      "cell_type": "code",
      "source": [
        "# evaluate on test data:\n",
        "loss, accuracy = cnn3.evaluate(sentences_test_padded3, labels_test)\n",
        "print('Test loss:', loss)\n",
        "print('Test accuracy:', accuracy)\n",
        "print(\"\\n\\n\")\n",
        "\n",
        "# precision, accuracy, f1\n",
        "print(evaluation_report(cnn3, sentences_test_padded3, labels_test))\n",
        "print(\"\\n\\n\")"
      ],
      "metadata": {
        "colab": {
          "base_uri": "https://localhost:8080/"
        },
        "id": "mqRrWywGXiCx",
        "outputId": "bd7f3be6-a89b-4088-c78b-3d8c35a4830f"
      },
      "execution_count": null,
      "outputs": [
        {
          "output_type": "stream",
          "name": "stdout",
          "text": [
            "6/6 [==============================] - 0s 48ms/step - loss: 0.5834 - accuracy: 0.7935\n",
            "Test loss: 0.5833690762519836\n",
            "Test accuracy: 0.79347825050354\n",
            "\n",
            "\n",
            "\n",
            "6/6 [==============================] - 0s 46ms/step\n",
            "              precision    recall  f1-score   support\n",
            "\n",
            "           0       0.75      0.88      0.81        92\n",
            "           1       0.86      0.71      0.77        92\n",
            "\n",
            "    accuracy                           0.79       184\n",
            "   macro avg       0.80      0.79      0.79       184\n",
            "weighted avg       0.80      0.79      0.79       184\n",
            "\n",
            "\n",
            "\n",
            "\n"
          ]
        }
      ]
    },
    {
      "cell_type": "code",
      "source": [
        "# confusion matrix\n",
        "y_pred3 = cnn3.predict(sentences_test_padded)\n",
        "y_pred_classes3 = (y_pred3 > 0.5).astype(int)  # Convert probabilities to binary class labels\n",
        "\n",
        "cm3 = confusion_matrix(labels_test, y_pred_classes3)\n",
        "\n",
        "new_label_dict = {\n",
        "    1: \"Step 3b\", \n",
        "    0: \"Other step\"\n",
        "}\n",
        "\n",
        "sn.set(font_scale=1.5)\n",
        "labels = ['Other Step', 'Step 3g']\n",
        "fontdict = {'fontsize': 20}\n",
        "ax = sn.heatmap(cm, cmap=plt.cm.Blues, vmin=20, vmax=100, annot=True, fmt='d', xticklabels=labels, yticklabels=labels, cbar_kws={'label': 'Count'}, annot_kws={\"size\": 16}) \n",
        "ax.set_xlabel('Predicted Step', fontdict=fontdict)\n",
        "ax.set_ylabel('Actual Step', fontdict=fontdict)\n",
        "ax.set_title('Confusion Matrix CNN, binary classification for step b.\\b')\n",
        "ax.tick_params(axis='both', which='major', labelsize=12)\n",
        "plt.show()"
      ],
      "metadata": {
        "colab": {
          "base_uri": "https://localhost:8080/",
          "height": 365
        },
        "id": "1siTRc0dXh6W",
        "outputId": "05ca2bdc-0e02-459c-a6f1-e5cff1708440"
      },
      "execution_count": null,
      "outputs": [
        {
          "output_type": "stream",
          "name": "stdout",
          "text": [
            "6/6 [==============================] - 1s 86ms/step\n"
          ]
        },
        {
          "output_type": "stream",
          "name": "stderr",
          "text": [
            "/usr/local/lib/python3.9/dist-packages/IPython/core/pylabtools.py:128: UserWarning: Glyph 8 (\b) missing from current font.\n",
            "  fig.canvas.print_figure(bytes_io, **kw)\n"
          ]
        },
        {
          "output_type": "display_data",
          "data": {
            "text/plain": [
              "<Figure size 432x288 with 2 Axes>"
            ],
            "image/png": "[encoded data removed]"
          },
          "metadata": {}
        }
      ]
    }
  ]
}